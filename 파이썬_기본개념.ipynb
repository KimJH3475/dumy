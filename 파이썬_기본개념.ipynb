{
  "nbformat": 4,
  "nbformat_minor": 0,
  "metadata": {
    "colab": {
      "provenance": [],
      "include_colab_link": true
    },
    "kernelspec": {
      "name": "python3",
      "display_name": "Python 3"
    },
    "language_info": {
      "name": "python"
    }
  },
  "cells": [
    {
      "cell_type": "markdown",
      "metadata": {
        "id": "view-in-github",
        "colab_type": "text"
      },
      "source": [
        "<a href=\"https://colab.research.google.com/github/KimJH3475/dumy/blob/main/%ED%8C%8C%EC%9D%B4%EC%8D%AC_%EA%B8%B0%EB%B3%B8%EA%B0%9C%EB%85%90.ipynb\" target=\"_parent\"><img src=\"https://colab.research.google.com/assets/colab-badge.svg\" alt=\"Open In Colab\"/></a>"
      ]
    },
    {
      "cell_type": "markdown",
      "source": [
        "0. 파이썬 코드는 그냥 텍스트인데, 좀 정해진 규칙에 따라서 쓰여 있는 텍스트임\n",
        "1. 이름이랑 값, 연산자, 예약어가 있음\n",
        "- 값이 될 수 있는 애: 숫자(123), 따움표로 들어가 있는 문자열('뭔가 문자열', \"뭔가 다른 문자열\")\n",
        "- 빈 괄호쌍이거나, 괄호 안에 값이 하나만 있거나, 괄호 안에 쉼표로 구분된 값들이 있거나\n",
        "  - 예) [] : [], [1]\n",
        "  - 예) [] : [1, 2, 3]\n",
        "  - 예) () : (1, \"다른 값\", \"뭔가 또 다른 값\", 4)\n",
        "  - 예) {} : {1, 2, 223, 5}\n",
        "  - 예) [] : [[1,2], [3,4]] / [1,2], [3,4]\n",
        "- {} 안에 쉼표로 구분되어 있는 애들이 a:b 형식이거나 하나만 있거나\n",
        "  - 예) {1:2}\n",
        "  - 예) {1:2, 3:4}\n",
        "- 이름: 문자나 _로 시작하면서 띄어쓰기 없이 이어진 애들\n",
        "  - 예) abdc\n",
        "  - 예) 뭔가_이름\n",
        "- 연산자: +, -, *, /, 등등등...\n",
        "  - 예) **\n",
        "  - 예) and, or\n",
        "- 예약어: def, for, while, True, False, with, return\n",
        "\n",
        "2. 위에 있는 내용이 정해진 규칙대로 배치되어 있는 텍스트를 파이썬 코드라고 합니다. 정해진 규칙대로 배치되어 있지 않으면, 문법 에러가 났다고 합니다. (문법에러 = syntax error)\n",
        "\n",
        "\n"
      ],
      "metadata": {
        "id": "fF9TwdRdj3By"
      }
    },
    {
      "cell_type": "code",
      "execution_count": null,
      "metadata": {
        "colab": {
          "base_uri": "https://localhost:8080/"
        },
        "id": "eDp_mE6Ke-q0",
        "outputId": "ad048f75-d536-4839-dd6d-e01832241f90"
      },
      "outputs": [
        {
          "output_type": "stream",
          "name": "stdout",
          "text": [
            "hello world!\n"
          ]
        }
      ],
      "source": [
        "print('hello world!')"
      ]
    },
    {
      "cell_type": "code",
      "source": [
        "print(123123)\n",
        "print([])\n",
        "print(())\n",
        "\"sfafkjsdkfjd123123\"\n",
        "'12312312'\n",
        "123\n",
        "[]\n",
        "{}\n",
        "()\n",
        "\n",
        "some_name = 123\n",
        "\n",
        "print(some_name)\n",
        "print(some_name_without_value)"
      ],
      "metadata": {
        "colab": {
          "base_uri": "https://localhost:8080/",
          "height": 146
        },
        "id": "gBr6SieagQcH",
        "outputId": "4e7edf7e-de85-4789-82bb-4d968cc14df3"
      },
      "execution_count": null,
      "outputs": [
        {
          "output_type": "error",
          "ename": "SyntaxError",
          "evalue": "ignored",
          "traceback": [
            "\u001b[0;36m  File \u001b[0;32m\"<ipython-input-16-7daaad14fe40>\"\u001b[0;36m, line \u001b[0;32m10\u001b[0m\n\u001b[0;31m    some_name val\u001b[0m\n\u001b[0m              ^\u001b[0m\n\u001b[0;31mSyntaxError\u001b[0m\u001b[0;31m:\u001b[0m invalid syntax\n"
          ]
        }
      ]
    },
    {
      "cell_type": "markdown",
      "source": [],
      "metadata": {
        "id": "M9WrtCcKj2Fw"
      }
    },
    {
      "cell_type": "markdown",
      "source": [
        "1\n",
        "\n",
        "2\n",
        "\n",
        "3\n"
      ],
      "metadata": {
        "id": "KT_C6X48iLz5"
      }
    },
    {
      "cell_type": "code",
      "source": [
        "print(1)\n",
        "print(2)\n",
        "print(3)"
      ],
      "metadata": {
        "colab": {
          "base_uri": "https://localhost:8080/"
        },
        "id": "4DQAj5jKiQBM",
        "outputId": "39ef10b5-cac8-43fb-9108-68b6ed66b47f"
      },
      "execution_count": null,
      "outputs": [
        {
          "output_type": "stream",
          "name": "stdout",
          "text": [
            "1\n",
            "2\n",
            "3\n"
          ]
        }
      ]
    },
    {
      "cell_type": "code",
      "source": [
        "def print_123():\n",
        "    print(1)\n",
        "    print(2)\n",
        "    print(3)\n",
        "\n",
        "print_123()"
      ],
      "metadata": {
        "colab": {
          "base_uri": "https://localhost:8080/"
        },
        "id": "jzYEQeJ_iUqt",
        "outputId": "46e4f4ea-98a4-4847-f4ca-4401f7ae303f"
      },
      "execution_count": null,
      "outputs": [
        {
          "output_type": "stream",
          "name": "stdout",
          "text": [
            "1\n",
            "2\n",
            "3\n"
          ]
        }
      ]
    }
  ]
}