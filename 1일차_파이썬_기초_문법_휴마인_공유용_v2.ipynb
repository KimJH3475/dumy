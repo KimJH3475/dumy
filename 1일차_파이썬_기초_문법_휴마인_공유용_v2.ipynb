{
  "nbformat": 4,
  "nbformat_minor": 0,
  "metadata": {
    "colab": {
      "provenance": [],
      "collapsed_sections": [
        "_OzIJrlIMw90"
      ],
      "include_colab_link": true
    },
    "kernelspec": {
      "name": "python3",
      "display_name": "Python 3"
    }
  },
  "cells": [
    {
      "cell_type": "markdown",
      "metadata": {
        "id": "view-in-github",
        "colab_type": "text"
      },
      "source": [
        "<a href=\"https://colab.research.google.com/github/KimJH3475/dumy/blob/main/1%EC%9D%BC%EC%B0%A8_%ED%8C%8C%EC%9D%B4%EC%8D%AC_%EA%B8%B0%EC%B4%88_%EB%AC%B8%EB%B2%95_%ED%9C%B4%EB%A7%88%EC%9D%B8_%EA%B3%B5%EC%9C%A0%EC%9A%A9_v2.ipynb\" target=\"_parent\"><img src=\"https://colab.research.google.com/assets/colab-badge.svg\" alt=\"Open In Colab\"/></a>"
      ]
    },
    {
      "cell_type": "code",
      "source": [],
      "metadata": {
        "id": "5BykhGRRsj1i"
      },
      "execution_count": null,
      "outputs": []
    },
    {
      "cell_type": "markdown",
      "metadata": {
        "id": "NS67XI48BmCQ"
      },
      "source": [
        "<img src='https://i.postimg.cc/vHNYJ1BM/2022-04-11-3-35-49.png' width=\"800px;\" border='0'>"
      ]
    },
    {
      "cell_type": "markdown",
      "source": [],
      "metadata": {
        "id": "fsZklDWl-RzS"
      }
    },
    {
      "cell_type": "markdown",
      "metadata": {
        "id": "JxSdX0_6Jdxj"
      },
      "source": [
        "\n",
        "![대체 텍스트](https://i.postimg.cc/4xRf3BLW/1-2.png)\n",
        "\n"
      ]
    },
    {
      "cell_type": "markdown",
      "metadata": {
        "id": "xNIwLyimLz9M"
      },
      "source": [
        "\n",
        "# ⛔ 강의를 시작하기 전에\n",
        "\n",
        "- 해당 강의자료(ipynb)는 '🧜데이터 다이빙🧜' 강의 목적을 위해 제작되었으며, 외부로 무단 배포를 엄격히 금하고 있습니다.👹\n",
        "'🧜🏻‍♀️데이터 다이빙🧜🏻' 여러분들의 학습을 위해서만 활용해주시기를 부탁드리겠습니다!\n",
        "-  ipynb 파일은 파이썬 언어를 기반으로 제작된 노트 파일이며, Jupyter Notebook과 Google Colab 상에서 읽기/쓰기가 가능합니다.\n",
        "\n",
        "> **아래 매뉴얼을 따라 사본 생성 후 필기를 진행해주세요!**\n",
        ">> ➀ 크롬 다운로드와 구글 계정을 생성해주세요\n",
        "➁ 좌측 상단 '파일' -> '드라이브에 사본 저장...'\n",
        "➂ 본인의 구글 계정 Gdrive에 접속해주세요\n",
        "➃ 자동으로 'Colab Notebooks'라는 폴더가 만들어져 있습니다\n",
        "(*없다면 새로고침를 눌러주세요)\n",
        "➄ 해당 폴더 속에 사본 파일이 복사된 것을 확인\n",
        "- 내 강의 자료 : 구글 드라이브 > Colab Notebook\n",
        "\n",
        "  😁이제 '읽기 쓰기'가 가능한, 여러분들만의 '🧜‍♀️데이터 다이빙🧜‍♂️'를 위한 파일이 성공적으로 생성되었습니다!\n",
        "\n"
      ]
    },
    {
      "cell_type": "code",
      "metadata": {
        "id": "EMtHyisYyu8-"
      },
      "source": [
        "from google.colab import drive\n",
        "drive.mount('/content/drive')"
      ],
      "execution_count": null,
      "outputs": []
    },
    {
      "cell_type": "markdown",
      "metadata": {
        "id": "jEJeFQetRf59"
      },
      "source": [
        "\n",
        "![대체 텍스트](https://i.postimg.cc/4xRf3BLW/1-2.png)\n",
        "\n",
        "\n",
        "\n",
        "\n"
      ]
    },
    {
      "cell_type": "markdown",
      "metadata": {
        "id": "JXOuFpk2N-1q"
      },
      "source": [
        "## 🙉 구글 코랩(Google Colab) 익숙해지기!\n",
        "> **아래 매뉴얼을 따라해주세요!**\n",
        "> - 이 셀을 한 번 클릭한 후, 화면 좌측 상단의 '**+텍스트**' 버튼을 눌러보세요."
      ]
    },
    {
      "cell_type": "markdown",
      "metadata": {
        "id": "xjywhgQXOymT"
      },
      "source": [
        "> - 해당 셀이 비어있어서 '더블 클릭 또는 Enter 키를 눌러 수정'이라고 쓰여 있을 것입니다.\n",
        "- 생성된 셀을 더블 클릭한 뒤, '휴마인 화이팅'을 입력한 뒤 `shift + enter`를 눌러주세요."
      ]
    },
    {
      "cell_type": "markdown",
      "metadata": {
        "id": "kqSa7cWSOgsP"
      },
      "source": [
        "> - 코드를 입력할 수 있는 셀이 추가되었습니다!!\n",
        "> - 이제 해당 셀을 '**더블 클릭**'하거나 '**엔터키**'를 치고 편집 환경에 들어갑니다.\n",
        "> - 우측 상단의 툴박스를 통해 셀을\n",
        "    1.   위로 올리거나\n",
        "    2.   아래로 내리거나\n",
        "    3. 링크를 공유하거나\n",
        "    4. 댓글을 달거나\n",
        "    5. 삭제할 수 있습니다.\n",
        "\n",
        "> - 런타임이란 무엇인가요? : 프로그램 실행과 관련된 것\n"
      ]
    },
    {
      "cell_type": "markdown",
      "metadata": {
        "id": "UF05aK0yj7TA"
      },
      "source": [
        "> ## [참고] Colaboratory 소개 영상"
      ]
    },
    {
      "cell_type": "code",
      "metadata": {
        "id": "RbuRUJj4mpAV",
        "cellView": "both",
        "colab": {
          "base_uri": "https://localhost:8080/",
          "height": 420
        },
        "outputId": "874ebbc1-c109-4462-cdf9-253287b34851"
      },
      "source": [
        "from IPython.display import YouTubeVideo\n",
        "YouTubeVideo('inN8seMm7UI', width=600, height=400)"
      ],
      "execution_count": null,
      "outputs": [
        {
          "output_type": "execute_result",
          "data": {
            "text/plain": [
              "<IPython.lib.display.YouTubeVideo at 0x7f71b4e1ba60>"
            ],
            "text/html": [
              "\n",
              "        <iframe\n",
              "            width=\"600\"\n",
              "            height=\"400\"\n",
              "            src=\"https://www.youtube.com/embed/inN8seMm7UI\"\n",
              "            frameborder=\"0\"\n",
              "            allowfullscreen\n",
              "        ></iframe>\n",
              "        "
            ],
            "image/jpeg": "[encoded data removed]"
          },
          "metadata": {},
          "execution_count": 1
        }
      ]
    },
    {
      "cell_type": "markdown",
      "metadata": {
        "id": "7HmtocvW4YnK"
      },
      "source": [
        "😎코랩 사용 tip 몇 가지!\n",
        "\n",
        "\n",
        "> [ 단축키 ]\n",
        "\n",
        "- ESC + A\n",
        "- ESC + B\n",
        "- ESC"
      ]
    },
    {
      "cell_type": "markdown",
      "metadata": {
        "id": "Igypr-qcaOGK"
      },
      "source": [
        "![대체 텍스트](https://i.postimg.cc/4xRf3BLW/1-2.png)\n"
      ]
    },
    {
      "cell_type": "markdown",
      "metadata": {
        "id": "1q5KSTt_rBUb"
      },
      "source": [
        "# 📌 Step 1. 파이썬 기초\n",
        "# 파이썬은 이런말을 알아들을 수 있어요\n"
      ]
    },
    {
      "cell_type": "markdown",
      "source": [
        "안녕"
      ],
      "metadata": {
        "id": "nPYsZGqLfhM1"
      }
    },
    {
      "cell_type": "code",
      "source": [
        "print(\"hello\")"
      ],
      "metadata": {
        "colab": {
          "base_uri": "https://localhost:8080/"
        },
        "id": "VOtXg3cJflzm",
        "outputId": "1f4f6ac5-f952-4c99-e57a-c1927a2bdf64"
      },
      "execution_count": null,
      "outputs": [
        {
          "output_type": "stream",
          "name": "stdout",
          "text": [
            "hello\n"
          ]
        }
      ]
    },
    {
      "cell_type": "markdown",
      "metadata": {
        "id": "ZVN-Y-SdKbL2"
      },
      "source": [
        "![대체 텍스트](https://i.postimg.cc/wTJTXSnX/3.png)"
      ]
    },
    {
      "cell_type": "markdown",
      "metadata": {
        "id": "DGGyVkq0rGdW"
      },
      "source": [
        "## 1. 주석 🤫🤫\n",
        "\n",
        "주석(코멘트)는 컴퓨터가 읽지 않도록 하는 마법의 기능입니다.\n",
        "> '#' 을 입력 후 원하는 내용을 입력할 수 있습니다.\n",
        "\n",
        "```\n",
        "# 휴마인 화이팅~\n",
        "```\n",
        "\n",
        "\n",
        "\n",
        "```\n",
        "# 다음은 그날의 미세먼지를 알려주는 코드\n",
        "get_misaemisae()\n",
        "```\n"
      ]
    },
    {
      "cell_type": "markdown",
      "metadata": {
        "id": "XPot-D0d1EAP"
      },
      "source": []
    },
    {
      "cell_type": "code",
      "metadata": {
        "id": "NF3ZNzz91FS-"
      },
      "source": [
        "# 123213  -> CTRL+/\n",
        "# 123\n"
      ],
      "execution_count": null,
      "outputs": []
    },
    {
      "cell_type": "code",
      "source": [
        "#아래 코드는 이름을 지정해주는 코드임\n",
        "my_name = \"데이터다이빙\"                         #이름을 지정해주는 코드\n",
        "\n",
        "print(\"깨어나세요. \" + my_name + \"이여!\")  #인사말을 출력해주는 코드\n",
        "\n",
        "# 주석이 무엇인지 설명하는 주석^^;"
      ],
      "metadata": {
        "id": "RmFD5xfxCYMb"
      },
      "execution_count": null,
      "outputs": []
    },
    {
      "cell_type": "markdown",
      "metadata": {
        "id": "Hnd3-qhlKk7I"
      },
      "source": [
        "![대체 텍스트](https://i.postimg.cc/wTJTXSnX/3.png)"
      ]
    },
    {
      "cell_type": "markdown",
      "metadata": {
        "id": "MqwhUH8qraqh"
      },
      "source": [
        "## 2. 출력 Print 🖨🖨🖨\n",
        "\n",
        "코드는 컴퓨터와 소통하는 방법입니다.\n",
        "요즘은 인공지능 스피커가 나와서 다양한 방식으로 소통할 수 있겠지만, 우리가 보는 코드 화면은 흰 바탕에 검정 글씨로 쓰인 워드 화면과 크게 다르지 않습니다.\n",
        "\n",
        "**`print()`** 는 컴퓨터가 말하도록 하는 함수입니다. 이때 화면 상에 출력되는 결과를 보통 **`output`**, 또는 코드의 출력이라고 합니다.\n",
        "\n",
        "<img src=\"https://1.bp.blogspot.com/-6xslfGdg9So/XoF757SbMMI/AAAAAAAAAN0/2SfYDCN2KSMsIUwc0sQwriAgvq7KJl3dgCLcBGAsYHQ/s1600/1%25E1%2584%2580%25E1%2585%25A1%25E1%2586%25BC%2B%25E1%2584%2591%25E1%2585%25B3%25E1%2584%2585%25E1%2585%25B5%25E1%2586%25AB%25E1%2584%2590%25E1%2585%25B3%2B%25E1%2584%2592%25E1%2585%25A1%25E1%2586%25B7%25E1%2584%2589%25E1%2585%25AE.jpg\" width = \"700\">\n",
        "\n",
        "아래와 같이 괄호 안에 다양한 메세지 또는 변수들을 넣어서 원하는 것을 출력하도록 할 수 있습니다.\n",
        "\n"
      ]
    },
    {
      "cell_type": "code",
      "metadata": {
        "id": "9egq3Bt4sfyI"
      },
      "source": [
        "print(\"hello world\")\n",
        "print(\"안녕하세요!\")    # 문자를 넣을 수도 있고\n",
        "print(10)               # 숫자를 넣을 수도 있고\n",
        "print(False)            # 참/거짓 값을 넣을 수도 있습니다"
      ],
      "execution_count": null,
      "outputs": []
    },
    {
      "cell_type": "markdown",
      "metadata": {
        "id": "6Y9P4a5BKo6n"
      },
      "source": [
        "![대체 텍스트](https://i.postimg.cc/wTJTXSnX/3.png)"
      ]
    },
    {
      "cell_type": "markdown",
      "metadata": {
        "id": "2sOVnY-hs0kw"
      },
      "source": [
        "## 3. 변수 Variables\n",
        "\n",
        "**변수**란 프로그래밍에서 **데이터를 저장하는 공간**입니다.\n",
        "\n",
        ">  내가 그의 이름을 불러주었을 때,\n",
        "그는 나에게로 와서\n",
        "꽃🌸이 되었다.\n",
        "\n",
        "\n",
        "수학 공부할 때 쓰는 줄 알았는데, 이쪽에서 더 많이 쓰는 것 같습니다😱\n",
        "\n",
        "변수를 활용하면 한 번 지정한 값을 여러 번 재사용할 수 있으므로 코딩하기가 편해집니다.\n",
        "\n",
        "변수를 어떠한 값으로 지정하는 것을 파이썬에서는 **선언 (assign)** 이라 하며 다음과 같이 **'='** 부호를 사용합니다.\n",
        "\n",
        "<img src = \"https://1.bp.blogspot.com/-t5-w7IhWPGI/XoF9eA43NTI/AAAAAAAAAOg/JQ87XAQwjGwN4f15SIk7THPiu6m7i0PHACLcBGAsYHQ/s1600/%25E1%2584%258F%25E1%2585%25A2%25E1%2586%25B8%25E1%2584%258E%25E1%2585%25A54.JPG\" width = \"550\">\n",
        "\n",
        "![대체 텍스트](https://i0.wp.com/www.bsidesoft.com/wp-content/uploads/2017/04/v06-2_02.jpg?resize=509%2C327)"
      ]
    },
    {
      "cell_type": "code",
      "metadata": {
        "id": "uwPhHGuMt2tm"
      },
      "source": [
        "# 변수를 이용하면 매번 장문의 데이터를 입력할 필요가 없어집니다.\n",
        "text = \"그대 기억이 지난 사랑이 내 안을 파고드는 가시가 되어~ 제발 가라고 아주 가라고 애써도 나를 괴롭히는데~\"\n",
        "\n",
        "print(text)\n",
        "\n",
        "print(\"love\")"
      ],
      "execution_count": null,
      "outputs": []
    },
    {
      "cell_type": "markdown",
      "metadata": {
        "id": "QvL9eWVCKqPO"
      },
      "source": [
        "![대체 텍스트](https://i.postimg.cc/wTJTXSnX/3.png)"
      ]
    },
    {
      "cell_type": "markdown",
      "metadata": {
        "id": "AYivSSbQudGX"
      },
      "source": [
        "## 4. 변수 이름 짓기\n",
        "변수의 이름은 여러분 마음대로 지정할 수 있습니다.\n",
        "다만 띄어쓰기는 인식이 불가능하니 여러 형태로 띄어쓰기를 대체하고 있습니다.\n",
        "\n",
        "![대체 텍스트](https://content.invisioncic.com/r229491/monthly_2018_02/codecase.png.9abc0521d2c0925906f5d0c309ed3f7b.png)\n",
        "\n",
        "위 예시 중 파이썬에서는 보통 언더바 `_` 혹은 대문자로 띄어쓰기를 대체합니다.\n",
        "\n",
        "\n",
        "\n",
        "또한, 한 번 선언한 변수의 값은 다시 선언 기호 `=` 를 사용하여 다른 값으로 업데이트할 수 있습니다.\n",
        "\n",
        "\n",
        "다음과 같이요 !\n",
        "\n",
        "> 아래의 예제에서 칼로리 섭취량을 수정해보세요."
      ]
    },
    {
      "cell_type": "code",
      "metadata": {
        "id": "TRGvbY8Hv_lS",
        "outputId": "245df2f1-44a3-4435-f956-c011465a1224",
        "colab": {
          "base_uri": "https://localhost:8080/"
        }
      },
      "source": [
        "# 칼로리 섭취량 계산\n",
        "lunch = 390 # lunch 라는 변수에 390이라는 숫자를 할당하라 (컴퓨터에게 전달)\n",
        "lemon_juice = 40\n",
        "\n",
        "# 칼로리 섭취량 출력\n",
        "print(\"점심 : \")\n",
        "print(lunch) # lunch라는 변수에 무슨 값이 있는지 보여줘\n",
        "print(\"레몬 쥬스 : \")\n",
        "print(lemon_juice) # lemon_juice라는 변수에 무슨 값이 있는지 보여줘"
      ],
      "execution_count": null,
      "outputs": [
        {
          "output_type": "stream",
          "name": "stdout",
          "text": [
            "점심 : \n",
            "390\n",
            "레몬 쥬스 : \n",
            "40\n"
          ]
        }
      ]
    },
    {
      "cell_type": "markdown",
      "metadata": {
        "id": "nj5uDy9HKr7V"
      },
      "source": [
        "![대체 텍스트](https://i.postimg.cc/wTJTXSnX/3.png)"
      ]
    },
    {
      "cell_type": "markdown",
      "metadata": {
        "id": "rnWVtQCRsjAK"
      },
      "source": [
        "## 5. 문자열 String\n",
        "\n",
        "컴퓨터 프로그래밍에서 텍스트를 **문자열(string)** 이라고 부릅니다.\n",
        "\n",
        "\n",
        "파이썬에서는 문자열을 **큰 따옴표** 또는 **작은 따옴표**로 표기합니다.\n",
        "\n",
        "\n",
        "예) \"이것은 문자열(string)입니다\" or '이것 또한 문자열(string)입니다'\n",
        "\n",
        "\n",
        "어떤 따옴표를 쓰는지는 상관없습니다! 다만 짝이 맞아야 해요.\n",
        "\n",
        "> 🔍 아래의 빈 셀에서 본인의 이름을 print()함수를 이용하여 출력해보세요! 한번은 `\" \" `, 한번은 `' ' `을 써주시기 바랍니다."
      ]
    },
    {
      "cell_type": "code",
      "metadata": {
        "id": "_X6CB3FusuYj"
      },
      "source": [
        "#이름을 출력해보세요... 두 번...!!\n",
        "print(\"김마인\") # 문자열 김마인을 출력해라\n",
        "print(김마인) # 변수명 김마인을 출력해라"
      ],
      "execution_count": null,
      "outputs": []
    },
    {
      "cell_type": "code",
      "metadata": {
        "id": "1P-MVRKhF3Sd"
      },
      "source": [
        "# 큰 따옴표와 작은 따옴표를 사용해서 자신의 이름을 소개하기\n",
        "print('저의 이름은 /'김마인' 입니다')\n",
        "print(\"저의 이름은 김마인 입니다.\")\n",
        "print(\"저의 이름은 '김마인' 입니다.\")\n",
        "\n",
        "# 가장 바깥의 문자열을 정의하는 부호가 작은 따옴표일 경우 -> 내부는 큰 따옴표로 인용을 표기\n"
      ],
      "execution_count": null,
      "outputs": []
    },
    {
      "cell_type": "markdown",
      "metadata": {
        "id": "QCj6e22KKtLy"
      },
      "source": [
        "![대체 텍스트](https://i.postimg.cc/wTJTXSnX/3.png)"
      ]
    },
    {
      "cell_type": "markdown",
      "metadata": {
        "id": "14yIE4My1BYi"
      },
      "source": [
        "## 6. 숫자 Numeric Data types\n",
        "\n",
        "파이썬에서는 수를 크게 두 가지 타입으로 분류합니다 .\n",
        "\n",
        "1. **integer 또는 int** 는 **정수형** 데이터를 저장하는 변수 타입입니다. (-2, -1 .... 3 4 5 등)\n",
        "소수점이 없는 수를 저장할 때 쓰입니다.\n",
        "\n",
        "2. **floating point 또는 float** 는 **부동소수점**을 표기하기 위해 쓰는 변수 타입입니다. ( 1.23, 10.567 등)\n",
        "\n",
        "어떤 타입인지 모를 때는 **type()** 함수를 쓰면 알 수 있습니다.\n"
      ]
    },
    {
      "cell_type": "code",
      "metadata": {
        "id": "1lQiUP231ac8",
        "colab": {
          "base_uri": "https://localhost:8080/"
        },
        "outputId": "3a851e6e-70a9-4f4d-c55a-81cc4e1e633d"
      },
      "source": [
        "#@title 기본 제목 텍스트\n",
        "grade_1 = 3    #int 형 (정수) - 기본 설정\n",
        "grade_2 = 2.0  #float 형 (실수)\n",
        "# type(변수명)\n",
        "print(\"grade_1 type : \")\n",
        "print(type(grade_1)) # 정수로 인식\n",
        "print(\"grade_2 type : \")\n",
        "print(type(grade_2)) # 실수로 인식\n",
        "\n",
        "print(\"average : \")  #파이썬에서는 타입을 알아서 자동으로 변환해줍니다!\n",
        "# grade_1 = 3\n",
        "print(grade_1/2 + grade_2/2)\n",
        "print(type(grade_1/2 + grade_2/2))"
      ],
      "execution_count": null,
      "outputs": [
        {
          "output_type": "stream",
          "name": "stdout",
          "text": [
            "grade_1 type : \n",
            "<class 'int'>\n",
            "grade_2 type : \n",
            "<class 'float'>\n",
            "average : \n",
            "2.5\n",
            "<class 'float'>\n"
          ]
        }
      ]
    },
    {
      "cell_type": "code",
      "source": [
        "##복습\n",
        "type(grade_1)   #두개를 이어서 다 보고싶거나 앞에 텍스트 넣고 싶으면?)\n",
        "\n"
      ],
      "metadata": {
        "colab": {
          "base_uri": "https://localhost:8080/"
        },
        "id": "c0RwuOwJvYqs",
        "outputId": "02ba73da-b183-4814-ace5-a74a3f2f8236"
      },
      "execution_count": null,
      "outputs": [
        {
          "output_type": "stream",
          "name": "stdout",
          "text": [
            "타입 :grade_1\n"
          ]
        }
      ]
    },
    {
      "cell_type": "code",
      "source": [
        "print(\"그레이드타입 : \",(type(grade_1)),\"/\",(type(grade_2)))\n"
      ],
      "metadata": {
        "colab": {
          "base_uri": "https://localhost:8080/"
        },
        "id": "JYddg9sJvajP",
        "outputId": "fb9df0c3-a38b-4421-f349-92a04cb6b105"
      },
      "execution_count": null,
      "outputs": [
        {
          "output_type": "stream",
          "name": "stdout",
          "text": [
            "그레이드타입 :  <class 'int'> / <class 'float'>\n"
          ]
        }
      ]
    },
    {
      "cell_type": "code",
      "source": [],
      "metadata": {
        "id": "fXZ-ePc4wnlN"
      },
      "execution_count": null,
      "outputs": []
    },
    {
      "cell_type": "code",
      "source": [
        "# type(변수명)\n",
        "print(\"grade_1 type : \")\n",
        "print(type(grade_1)) # 정수로 인식\n",
        "print(\"grade_2 type : \")\n",
        "print(type(grade_2)) # 실수로 인식\n",
        "\n",
        "print(\"average : \")  #파이썬에서는 타입을 알아서 자동으로 변환해줍니다!\n",
        "# grade_1 = 3\n",
        "print(grade_1/2 + grade_2/2)\n",
        "print(type(grade_1/2 + grade_2/2))"
      ],
      "metadata": {
        "colab": {
          "base_uri": "https://localhost:8080/"
        },
        "id": "xIJED8bpvUz1",
        "outputId": "7cebfef7-41cc-4515-af51-e284d72db496"
      },
      "execution_count": null,
      "outputs": [
        {
          "output_type": "stream",
          "name": "stdout",
          "text": [
            "grade_1 type : \n",
            "<class 'int'>\n",
            "grade_2 type : \n",
            "<class 'float'>\n",
            "average : \n",
            "2.5\n",
            "<class 'float'>\n"
          ]
        }
      ]
    },
    {
      "cell_type": "code",
      "source": [],
      "metadata": {
        "id": "ntNd8VkHNSPE"
      },
      "execution_count": null,
      "outputs": []
    },
    {
      "cell_type": "markdown",
      "metadata": {
        "id": "0C6vVn1fKwd7"
      },
      "source": [
        "![대체 텍스트](https://i.postimg.cc/wTJTXSnX/3.png)"
      ]
    },
    {
      "cell_type": "markdown",
      "metadata": {
        "id": "VZIcuiDy3B9o"
      },
      "source": [
        "## 7. 불 bool data types\n",
        "\n",
        "파이썬에는 참(True), 거짓(False)를 나타내는 불(bool) 자료형도 있습니다."
      ]
    },
    {
      "cell_type": "code",
      "metadata": {
        "id": "Aj7I0cFL3DB5"
      },
      "source": [
        "# boolean: 참 (1) /거짓 (0)\n",
        "\n",
        "# '할당'을 해줄때는 =, 우리가 아는 '같다'의 뜻인 등호는 ==\n",
        "\n",
        "print(True==1) # 변수명이 아니라, 예약어로 처리\n",
        "print(True==0)\n",
        "print(\"True\")\n",
        "print(type(True))\n",
        "print(type(False))"
      ],
      "execution_count": null,
      "outputs": []
    },
    {
      "cell_type": "markdown",
      "metadata": {
        "id": "SaG-N55MjAhL"
      },
      "source": [
        "### 🙌 여기서 잠깐! True, False는 예약어 !?\n",
        "파이썬에는 이미 특정 기능을 수행할 수 있도록 키워드로 지정되어 있는 예약어(Reserve Words)가 있습니다. 예약어는 변수나 함수의 이름으로 사용될 수 없다는 특징이 있어요! True와 False도 예약어이기 때문에 변수나 함수 이름으로 사용하면 오류가 뜹니다!"
      ]
    },
    {
      "cell_type": "code",
      "metadata": {
        "id": "dKLjpzE2kINS",
        "colab": {
          "base_uri": "https://localhost:8080/"
        },
        "outputId": "bb332d40-16fa-400b-f3dd-610b4ca04bb3"
      },
      "source": [
        "yes = \"여러분은 이미 파이썬 초고수!\" # 출력해볼까요?\n",
        "print(yes)"
      ],
      "execution_count": null,
      "outputs": [
        {
          "output_type": "stream",
          "name": "stdout",
          "text": [
            "여러분은 이미 파이썬 초고수!\n"
          ]
        }
      ]
    },
    {
      "cell_type": "markdown",
      "metadata": {
        "id": "Rp2xa4wbNbWV"
      },
      "source": [
        "\n",
        "![대체 텍스트](https://i.postimg.cc/4xRf3BLW/1-2.png)\n"
      ]
    },
    {
      "cell_type": "markdown",
      "metadata": {
        "id": "0kNUlR1NcrEF"
      },
      "source": [
        "# 📌 Step 2. 파이썬 계산\n",
        "# 파이썬은 이런 것들을 계산할 수 있어요"
      ]
    },
    {
      "cell_type": "markdown",
      "metadata": {
        "id": "Gh_vJuKWNXa-"
      },
      "source": [
        "![대체 텍스트](https://i.postimg.cc/wTJTXSnX/3.png)"
      ]
    },
    {
      "cell_type": "code",
      "source": [],
      "metadata": {
        "id": "TmW6VPh_sdtE"
      },
      "execution_count": null,
      "outputs": []
    },
    {
      "cell_type": "markdown",
      "metadata": {
        "id": "_RW5-dcz1nbJ"
      },
      "source": [
        "### 1. 사칙연산 ➕➖➗✖\n",
        "\n",
        "파이썬은 엑셀과 같은 함수 기호를 써서 연산합니다.\n",
        "\n",
        " `print()` 안에 넣어도 잘 동작하고\n",
        "`=`으로 선언할 때 써도 잘 동작합니다!\n",
        "제곱은 `**` 으로 표기합니다."
      ]
    },
    {
      "cell_type": "code",
      "metadata": {
        "id": "BZtCeKLZ1uK8",
        "colab": {
          "base_uri": "https://localhost:8080/"
        },
        "outputId": "88713631-15dc-494c-b828-ea4e073137c9"
      },
      "source": [
        "# print \"100\" 더하기 빼기\n",
        "print(170 - 71 + 1)\n",
        "\n",
        "\n",
        "# Print \"50\" 곱셈\n",
        "print(25 * 2)\n",
        "\n",
        "\n",
        "# Print \"2.0\" 나눗셈\n",
        "# 슬래쉬 하나로 나누면 float(실수)를 반환한다\n",
        "# 슬래쉬 두개로 나누면 int(정수)를 반환한다.\n",
        "print(10 / 4)\n",
        "print(10 // 4)\n",
        "print(10 % 4)\n",
        "\n",
        "# Print \"18.0\" 나눗셈\n",
        "num = 3*2/2*6\n",
        "print(num)\n",
        "\n",
        "\n",
        "# Print \"2의 3승\" 제곱\n",
        "print(2 ** 3)"
      ],
      "execution_count": null,
      "outputs": [
        {
          "output_type": "stream",
          "name": "stdout",
          "text": [
            "100\n",
            "50\n",
            "2.5\n",
            "2\n",
            "2\n",
            "18.0\n",
            "8\n"
          ]
        }
      ]
    },
    {
      "cell_type": "code",
      "source": [
        "print(3*2/2*6)"
      ],
      "metadata": {
        "colab": {
          "base_uri": "https://localhost:8080/"
        },
        "id": "xAftIuUyzLlV",
        "outputId": "04547eed-c4e1-4da9-e67f-e9e1fb2eb7ed"
      },
      "execution_count": null,
      "outputs": [
        {
          "output_type": "stream",
          "name": "stdout",
          "text": [
            "18.0\n"
          ]
        }
      ]
    },
    {
      "cell_type": "markdown",
      "metadata": {
        "id": "C0Mgpu3p1xMb"
      },
      "source": [
        "> 0 으로 나누면 어떻게 될까요? 아래 셀을 실행해보세요"
      ]
    },
    {
      "cell_type": "code",
      "metadata": {
        "id": "CfCZ2ZC810FP",
        "colab": {
          "base_uri": "https://localhost:8080/",
          "height": 174
        },
        "outputId": "62cb4771-1f46-4b2a-e1d8-e7ba288c9a15"
      },
      "source": [
        "print(5/0)"
      ],
      "execution_count": null,
      "outputs": [
        {
          "output_type": "error",
          "ename": "ZeroDivisionError",
          "evalue": "ignored",
          "traceback": [
            "\u001b[0;31m---------------------------------------------------------------------------\u001b[0m",
            "\u001b[0;31mZeroDivisionError\u001b[0m                         Traceback (most recent call last)",
            "\u001b[0;32m<ipython-input-48-fad870a50e27>\u001b[0m in \u001b[0;36m<cell line: 1>\u001b[0;34m()\u001b[0m\n\u001b[0;32m----> 1\u001b[0;31m \u001b[0mprint\u001b[0m\u001b[0;34m(\u001b[0m\u001b[0;36m5\u001b[0m\u001b[0;34m/\u001b[0m\u001b[0;36m0\u001b[0m\u001b[0;34m)\u001b[0m\u001b[0;34m\u001b[0m\u001b[0;34m\u001b[0m\u001b[0m\n\u001b[0m",
            "\u001b[0;31mZeroDivisionError\u001b[0m: division by zero"
          ]
        }
      ]
    },
    {
      "cell_type": "markdown",
      "metadata": {
        "id": "x0mSQZ7diRw7"
      },
      "source": [
        "> 🔍 아래의 셀에서 사각형의 넓이를 출력해보세요"
      ]
    },
    {
      "cell_type": "code",
      "metadata": {
        "id": "Lqt40goU159M",
        "colab": {
          "base_uri": "https://localhost:8080/"
        },
        "outputId": "9aeb9629-2bb3-44b1-fe7f-8622bfa78793"
      },
      "source": [
        "width = 400\n",
        "height = 200\n",
        "\n",
        "print(400*200) #여기서 넓이를 출력해보세요!\n",
        "???\n",
        "\n",
        "# print(400*200)말고 다른 방법으로도 풀어보세요!\n",
        "print(width*height)"
      ],
      "execution_count": null,
      "outputs": [
        {
          "output_type": "stream",
          "name": "stdout",
          "text": [
            "80000\n",
            "Object `?` not found.\n",
            "80000\n"
          ]
        }
      ]
    },
    {
      "cell_type": "markdown",
      "metadata": {
        "id": "G7dtn1Xq2Pah"
      },
      "source": [
        "\n",
        "\n",
        "파이썬에서는 나누었을 때 **나머지를 구해주는 기능**이 있습니다.\n",
        "`%`기호로 나머지를 구할 수 있는데요.\n",
        "<img src='https://i.postimg.cc/SKyhmybQ/image.png' border='0'></a>\n",
        "\n",
        "\n"
      ]
    },
    {
      "cell_type": "code",
      "source": [
        "width = 400\n",
        "height = 200\n",
        "\n",
        "print(width*height)"
      ],
      "metadata": {
        "id": "JUzE0mHTRJil"
      },
      "execution_count": null,
      "outputs": []
    },
    {
      "cell_type": "code",
      "metadata": {
        "id": "VJo3L4mP2a7r"
      },
      "source": [
        "#소주 2병을 10명이서 한 잔씩 마셨을 때, 남는 소주의 양은?\n",
        "#힌트 소주 한 병은 7잔입니다 ^0^\n",
        "\n",
        "leftover_soju = 7*2%10\n",
        "\n",
        "print(\"소주 2병을 10명이서 한 잔씩 마셨을 때, 남는 소주의 양은?\")\n",
        "print(leftover_soju)"
      ],
      "execution_count": null,
      "outputs": []
    },
    {
      "cell_type": "markdown",
      "metadata": {
        "id": "mO2w0xq_Nx2L"
      },
      "source": [
        "\n",
        "\n",
        "![대체 텍스트](https://i.postimg.cc/wTJTXSnX/3.png)"
      ]
    },
    {
      "cell_type": "markdown",
      "metadata": {
        "id": "nSIPYL404q50"
      },
      "source": [
        "## 2. 문자열 더하기 String Concatenation\n",
        "\n",
        "`+` 기호를 문자열(String)에 사용하면 놀라운 일이 일어납니다.\n",
        "문자열끼리 덧셈이 가능해지는데요. 이것을 Concatenation 이라고 합니다.\n",
        "문자열을 더하면 공백없이 두 문자열이 합쳐지게 됩니다. (순서는 더한 순서대로!)\n",
        "\n",
        "> 아래의 예제에서 lyrics 라는 변수에 모든 문자열을 더해주세요. 그 이후 lyrics 를 출력해주세요!"
      ]
    },
    {
      "cell_type": "code",
      "metadata": {
        "id": "p2leT0ld4x95",
        "colab": {
          "base_uri": "https://localhost:8080/"
        },
        "outputId": "2b3cf8cd-e88a-475f-9913-eda27e336131"
      },
      "source": [
        "string_1 = \"비가 내리고, \"\n",
        "string_2 = \"음악이 흐르면, \"\n",
        "string_3 = \"난 당신을 생각해요, \"\n",
        "string_4 = \"당신이 떠나시던 그 밤에 이렇게 비가 왔어요 \"\n",
        "\n",
        "lyrics =  string_1+string_2# lyrics concatenate 하세요!\n",
        "print(lyrics) # lyrics를 출력해보세요!😲"
      ],
      "execution_count": null,
      "outputs": [
        {
          "output_type": "stream",
          "name": "stdout",
          "text": [
            "비가 내리고, 음악이 흐르면, \n"
          ]
        }
      ]
    },
    {
      "cell_type": "code",
      "source": [
        "print(lyrics)\n",
        "lyrics=string_1+string_2+string_3+string_4\n",
        "print(lyrics)"
      ],
      "metadata": {
        "colab": {
          "base_uri": "https://localhost:8080/"
        },
        "id": "pvjDHlZG0JV7",
        "outputId": "333b0bee-514a-4610-e218-0a8f0a029c16"
      },
      "execution_count": null,
      "outputs": [
        {
          "output_type": "stream",
          "name": "stdout",
          "text": [
            "비가 내리고, 음악이 흐르면, 난 당신을 생각해요, 당신이 떠나시던 그 밤에 이렇게 비가 왔어요 \n",
            "비가 내리고, 음악이 흐르면, 난 당신을 생각해요, 당신이 떠나시던 그 밤에 이렇게 비가 왔어요 \n"
          ]
        }
      ]
    },
    {
      "cell_type": "markdown",
      "metadata": {
        "id": "ovRsBwF8NzR7"
      },
      "source": [
        "![대체 텍스트](https://i.postimg.cc/wTJTXSnX/3.png)"
      ]
    },
    {
      "cell_type": "markdown",
      "metadata": {
        "id": "cInWlN7i4-8M"
      },
      "source": [
        "## 3. += 이랑 -= Plus Equals\n",
        "<img src=\"https://velog.velcdn.com/images%2Fjoygoround%2Fpost%2F05a29845-8dad-4b3a-ab7c-f2bcef61bff1%2Fimage.png\" height=300>\n",
        "\n",
        "가끔 한 번 지정한 값을 업데이트 해줘야 할 때가 있습니다.\n",
        " - `money = money + 10000`\n",
        " - `money += 10000`\n",
        "\n",
        "둘 다 현재의 money 에 10000 을 더해서 업데이트하여 줍니다.\n",
        "`-=` 기호를 쓰면 뺄셈이 되겠죠!"
      ]
    },
    {
      "cell_type": "markdown",
      "metadata": {
        "id": "QesgYRa1kLJa"
      },
      "source": [
        "> 하루 칼로리 계산 예제 다시보기"
      ]
    },
    {
      "cell_type": "code",
      "metadata": {
        "id": "xnF2abBe5cxx",
        "colab": {
          "base_uri": "https://localhost:8080/"
        },
        "outputId": "831749a7-da63-4448-b222-a949e138a75f"
      },
      "source": [
        "# 하루 칼로리 계산 예제 다시보기\n",
        "lunch = 390\n",
        "lemon_juice = 40\n",
        "print(lunch)\n",
        "\n",
        "lunch += lemon_juice\n",
        "print(\"오늘 먹은 칼로리는 ? \")\n",
        "print(lunch)"
      ],
      "execution_count": null,
      "outputs": [
        {
          "output_type": "stream",
          "name": "stdout",
          "text": [
            "390\n",
            "오늘 먹은 칼로리는 ? \n",
            "430\n"
          ]
        }
      ]
    },
    {
      "cell_type": "markdown",
      "metadata": {
        "id": "So_5oPRB5y8h"
      },
      "source": [
        "> 🔍 (예시) 어제 국내 코로나 확진자 수는 1000명이었습니다.\n",
        "오늘 100명의 환자가 퇴원했는데요,\n",
        "그렇다면 오늘 코로나 확진자 수는 몇 명일지 **-= 기호를 사용하여** 구해보세요!\n"
      ]
    },
    {
      "cell_type": "code",
      "source": [],
      "metadata": {
        "id": "eqPzR2m5b7zM"
      },
      "execution_count": null,
      "outputs": []
    },
    {
      "cell_type": "code",
      "metadata": {
        "id": "z7q8b7Uz50sp"
      },
      "source": [
        "patients = 1000  # 확진자 수\n",
        "print(\"어제 확진자 수\")\n",
        "print(patients)\n",
        "\n",
        "# 오늘 확진자 수로 변수 patients를 업데이트하세요.\n",
        "\n",
        "???\n",
        "print(\"오늘 확진자 수\")\n",
        "print(patients)\n"
      ],
      "execution_count": null,
      "outputs": []
    },
    {
      "cell_type": "markdown",
      "metadata": {
        "id": "6FxHYRnVlpOo"
      },
      "source": [
        "\n",
        "> 🔍 다음 변수들을 만들어보세요  (한번 정리하고 가볼까요?)\n",
        ">\n",
        ">`first_name`\n",
        "`last_name`\n",
        "`full_name`\n",
        "`my_age`\n",
        "`half_my_age`\n",
        "\n",
        "  [출력되어야 하는 정보]\n",
        "\n",
        "    이름:\n",
        "    김마인\n",
        "    나이:\n",
        "    30\n"
      ]
    },
    {
      "cell_type": "code",
      "metadata": {
        "id": "nCvC4H-hlpOx"
      },
      "source": [
        "#문자열(String)\n",
        "first_name = ???\n",
        "last_name = ???\n",
        "\n",
        "#문자열 더하기(String Connection)\n",
        "print(\"이름:\")\n",
        "full_name = first_name + last_name\n",
        "print(full_name)\n",
        "\n",
        "#숫자(Numeric Data Types)\n",
        "print(\"나이:\")\n",
        "my_age = ???\n",
        "print(my_age)\n",
        "\n",
        "\n",
        "#숫자 사칙연산 (+ - x %)\n",
        "half_my_age = 30/2"
      ],
      "execution_count": null,
      "outputs": []
    },
    {
      "cell_type": "markdown",
      "metadata": {
        "id": "85K74mT4NedP"
      },
      "source": [
        "\n",
        "![대체 텍스트](https://i.postimg.cc/4xRf3BLW/1-2.png)"
      ]
    },
    {
      "cell_type": "markdown",
      "metadata": {
        "id": "dMzgRalldrk6"
      },
      "source": [
        "\n",
        "# 📌 Step 3. 파이썬 함수\n",
        "# 파이썬에겐 이렇게 말해야 해요"
      ]
    },
    {
      "cell_type": "markdown",
      "metadata": {
        "id": "YtTrxh0KN3lN"
      },
      "source": [
        "![대체 텍스트](https://i.postimg.cc/wTJTXSnX/3.png)"
      ]
    },
    {
      "cell_type": "markdown",
      "metadata": {
        "id": "fUjfq1ReJuwI"
      },
      "source": [
        "##1. 함수(Function)"
      ]
    },
    {
      "cell_type": "markdown",
      "metadata": {
        "id": "PYhowGx7bwtr"
      },
      "source": [
        "<img src='https://i.postimg.cc/HnB1RXRw/def.png' width='1300' border='0'></a>"
      ]
    },
    {
      "cell_type": "markdown",
      "metadata": {
        "id": "yFPEHQETb2tu"
      },
      "source": [
        "위의 함수는 1과 2가 주어지면 1+2를 더함 3이 나오고, 2와 4가 주어지면 2+4를 한 6이 나옵니다.\n",
        "\n",
        "Input(입력)들이 변함에 따라 Output(결과) 또한 달라지는데,\n",
        "똑같은 기능을 여러 번 해야 합니다.\n",
        "\n",
        "Input이 2개 정도면 간단하겠지만... 100번이면, 100번 코딩을 해야하겠죠?\n",
        "\n",
        "특징 기능을 “**함수**”로 정의하면, 입력만 바꿔가면서\n",
        "결과를 살펴보면 됩니다.\n",
        "\n",
        "**즉, \"함수\"는 불필요한 코딩을 줄여주고 Input(입력)을 받아 Output(결과)를 주는 작업을 하는 마법의 도구입니다.🧚‍♀️**"
      ]
    },
    {
      "cell_type": "markdown",
      "metadata": {
        "id": "qJt4bM90cvJY"
      },
      "source": [
        "<img src='https://i.postimg.cc/7Y6FbCjR/def.png' border='0'></a>"
      ]
    },
    {
      "cell_type": "markdown",
      "metadata": {
        "id": "-DeIZekNlWTe"
      },
      "source": [
        "<img src='https://i.postimg.cc/0ytdjjRV/def.png' border='0'></a>"
      ]
    },
    {
      "cell_type": "code",
      "metadata": {
        "id": "hazZXduWc10X"
      },
      "source": [
        "def add(number): # number라는 함수를 정의(add라는 함수는 number라는 변수가 들어가면)\n",
        "  number+=2     # 함수의 내용 정의 (number라는 변수에 2를 더하고)\n",
        "  print(number) # 함수 내용 정의2 (업데이트된 number라는 값을 프린트 해라)\n",
        "\n",
        "add(number=3)    # number라는 값에 3을 넣어서 add함수의 내용을 실행해라!"
      ],
      "execution_count": null,
      "outputs": []
    },
    {
      "cell_type": "code",
      "metadata": {
        "id": "BZzv4ClgmXTr"
      },
      "source": [
        "string_1 = \"비가 내리고, \"\n",
        "string_2 = \"음악이 흐르면, \"\n",
        "string_3 = \"난 당신을 생각해요, \"\n",
        "string_4 = \"당신이 떠나시던 그 밤에 이렇게 비가 왔어요 \"\n",
        "\n",
        "print(string_1)\n",
        "print(string_2)\n",
        "print(string_3)\n",
        "print(string_4)\n",
        "\n",
        "# sing() 함수 만들기\n",
        "def sing():\n",
        "  print(string_1)\n",
        "  print(string_2)\n",
        "  print(string_3)\n",
        "  print(string_4)\n",
        "\n",
        "print('\\n 함수로 출력해보기 \\n')\n",
        "sing()\n",
        "\n",
        "# 노래를 한 번 더 불러보세요\n",
        "sing()"
      ],
      "execution_count": null,
      "outputs": []
    },
    {
      "cell_type": "markdown",
      "metadata": {
        "id": "PjjhrcCLmXTs"
      },
      "source": [
        "> 🔍 주문 중이라는 함수를 만들어볼까요?\n",
        "> - 함수의 이름은 마음대로 지어도 됩니다\n",
        "> - \"주문 중입니다 ....\"가 출력되도록 하세요\n",
        "\n",
        "```\n",
        "def function():\n",
        "  code      <-- 잘 보면 tab 으로 들여쓰기가 되어있는 것을 알 수 있습니다. 파이썬 에서는 tab 으로 함수 안의 내용과 밖의 내용을 구분합니다\n",
        "  code\n",
        "<-- shift+tab 으로 탈출할 수 있습니다\n",
        "function()\n",
        "```"
      ]
    },
    {
      "cell_type": "code",
      "metadata": {
        "id": "0rGP8N_xmXTs"
      },
      "source": [],
      "execution_count": null,
      "outputs": []
    },
    {
      "cell_type": "markdown",
      "metadata": {
        "id": "L_ZBjvdXR5hx"
      },
      "source": [
        "##⌛ QUIZ ⌛\n",
        "\n",
        "- CAC란, 1인 고객을 획득하는데 드는 비용을 말합니다.\n",
        "\n",
        " CAC를 구하는 식은 아래와 같습니다.\n",
        "\n",
        " 한 마케팅 회사에서 프로젝트의 CAC 자동 추산을 위한 프로그램을 개발하려고합니다.\n",
        "\n",
        "\n",
        "\n",
        "```\n",
        "     CAC = (매출 - 고객획득비용)/전체고객 수\n",
        "```\n",
        "\n"
      ]
    },
    {
      "cell_type": "code",
      "metadata": {
        "colab": {
          "base_uri": "https://localhost:8080/"
        },
        "id": "CYS1csFbNSNE",
        "outputId": "1cc9e116-627a-470f-f95e-8db84581d621"
      },
      "source": [
        "# 전체고객은 100명으로 고정되어 있고, 이번 프로젝트의 매출은 500, 비용은 200 입니다.\n",
        "# 이 마케팅 회사의 CAC를 구하여 아래 결과셀과 같이 나오려면 어떻게 해야할까요?\n",
        "\n",
        "\n",
        "# 여기에 답을 적어볼까요?\n",
        "???"
      ],
      "execution_count": null,
      "outputs": [
        {
          "output_type": "stream",
          "text": [
            "3.0\n"
          ],
          "name": "stdout"
        }
      ]
    },
    {
      "cell_type": "code",
      "source": [
        "def cac:\n"
      ],
      "metadata": {
        "id": "Ts0Pg9nHeYVJ"
      },
      "execution_count": null,
      "outputs": []
    },
    {
      "cell_type": "markdown",
      "metadata": {
        "id": "Ilrfvf8wmXTr"
      },
      "source": [
        "<img src='https://i.postimg.cc/G3Sg2bG3/1.png' border='0'></a>\n",
        "\n",
        "<img src='https://i.postimg.cc/nVsgqsH9/def1.png' border='0'></a>\n",
        "🤷‍♀️함수 호출 시,love(\"천서진\",\"주단태\")와 같이 2번째 Parameter를 지정하지 않고도 2번째 Parameter가 어떻게 출력된 건가요?\n",
        "\n",
        "Default 값이 정의되어 있음으로 Default 값이 자동으로 사용됩니다. def love(my_name,your_name =\"주단태\")에서 my_name(첫 번째 Parameter)는 Default 값이 정의되어 있지 않지만, your_name(두 번째 Parameter)는 your_name = \"주단태\"로 Default 값이 정해져 있습니다.\n",
        "\n",
        "✨def function_name(): 의 양식으로 함수를 정의합니다.\n",
        "\n",
        "✨함수 안에 parameter가 들어갈 수도 있고 들어가지 않을 수도 있습니다.\n",
        "\n",
        "✨print(f\"{my_name}loves {your_name}!\") Q :f는 뭔가요? --> A : \"f-string\"이란 건데, 뒤에서 설명드릴게요~!\n"
      ]
    },
    {
      "cell_type": "markdown",
      "metadata": {
        "id": "EA4EVy5rmmIw"
      },
      "source": [
        "<img src='https://i.postimg.cc/KvSqLJqC/Kakao-Talk-20210621-115103651.png' width='800' border='0'></a>"
      ]
    },
    {
      "cell_type": "code",
      "metadata": {
        "id": "k-DgdZAE-lC9"
      },
      "source": [
        "# 문자열을 표현하는 구문 앞에 f를 붙이면, f-string이 됩니다.\n",
        "# 문자열 내부에서 치환하려고 하는 내용은 {XX}--> 중괄호 안에 넣으면 됩니다.\n",
        "def love (my_name,your_name=\"주단태\"):\n",
        "  print(\"{my_name}loves{your_name}\")\n",
        "love(\"천서진\")\n",
        "\n",
        "# f-string을 사용하지 않으면,다음과 같이 나옵니다."
      ],
      "execution_count": null,
      "outputs": []
    },
    {
      "cell_type": "markdown",
      "metadata": {
        "id": "NnDoTyDfN5sp"
      },
      "source": [
        "![대체 텍스트](https://i.postimg.cc/wTJTXSnX/3.png)"
      ]
    },
    {
      "cell_type": "markdown",
      "metadata": {
        "id": "jkP0om05iV3_"
      },
      "source": [
        "## 2. 함수 매개변수 parameters\n",
        "\n",
        "꼭 비가 내려야 당신이 생각나는 것은 아니겠죠!\n",
        "\n",
        "눈이 오거나 봄이 온다든가 매번 다른 게 오면 어떻게 할까요?\n"
      ]
    },
    {
      "cell_type": "code",
      "source": [],
      "metadata": {
        "id": "y6GyK5eVKPN_"
      },
      "execution_count": null,
      "outputs": []
    },
    {
      "cell_type": "code",
      "metadata": {
        "id": "ttP1tujuiV4I"
      },
      "source": [
        "def sing(thing):\n",
        "  # 파이썬에서는 마치 thing 이라는 변수에 내가 입력한 값이 선언된 것처럼 처리를 합니다.\n",
        "  # thing = \"눈이\"\n",
        "  print(thing + \" 내리고, \")\n",
        "  print(\"음악이 흐르면, \")\n",
        "  print(\"난 당신을 생각해요, \")\n",
        "  print(\"당신이 떠나시던 그 밤에 이렇게 비가 왔어요 \\n\")\n",
        "\n",
        "sing(\"눈이\") # 이떄 괄호 안에 들어가는 변수를 parameter 또는 함수 인자라고 부릅니다.\n",
        "sing(\"눈물이...\")\n",
        "sing(\"아무거나\")"
      ],
      "execution_count": null,
      "outputs": []
    },
    {
      "cell_type": "markdown",
      "metadata": {
        "id": "LebA6KDXiV4J"
      },
      "source": [
        "매개변수가 2개라면 어떻게 될까요?"
      ]
    },
    {
      "cell_type": "code",
      "metadata": {
        "id": "VyvLPzt1iV4K"
      },
      "source": [
        "def sing(thing1, thing2): # 협업을 할때는 만든함수에 어떤 인자가 몇개 들어가들어가는지 꼭 표시를 해주어합니다.\n",
        "  print(thing1 + \" 내리고, \")\n",
        "  print(thing2 + \" 흐르면, \")\n",
        "  print(\"난 당신을 생각해요, \")\n",
        "  print(\"당신이 떠나시던 그 밤에 이렇게 비가 왔어요 \\n\")\n",
        "\n",
        "sing(\"비가\",\"음악이\") # 파이썬에서는 함수인자가 들어가는 순서대로 배정됩니다. thing1 -> thing2 순서"
      ],
      "execution_count": null,
      "outputs": []
    },
    {
      "cell_type": "markdown",
      "metadata": {
        "id": "QJf0GdO-iV4L"
      },
      "source": [
        " 기본값 매개변수(default parameter)란 함수를 호출할 때 값을 설정하지 않아도 특정값이 할당되도록 하는 기능입니다."
      ]
    },
    {
      "cell_type": "code",
      "metadata": {
        "id": "_X82H1uqiV4L"
      },
      "source": [
        "def sing(thing1, thing2 = \"음악이\"): # 기본값은 함수를 정의할 때 지정해주어야 합니다.\n",
        "  print(thing1 + \" 내리고, \")\n",
        "  print(thing2 + \" 흐르면, \")\n",
        "  print(\"난 당신을 생각해요, \")\n",
        "  print(\"당신이 떠나시던 그 밤에 이렇게 비가 왔어요 \\n\")\n",
        "\n",
        "sing(\"비가\") # 기본값 매개변수는 일반 매개변수와 달리 호출 시 생략할 수 있습니다."
      ],
      "execution_count": null,
      "outputs": []
    },
    {
      "cell_type": "markdown",
      "metadata": {
        "id": "rq4cD4rMN6t_"
      },
      "source": [
        "![대체 텍스트](https://i.postimg.cc/wTJTXSnX/3.png)"
      ]
    },
    {
      "cell_type": "markdown",
      "metadata": {
        "id": "vbtLPBx4i06N"
      },
      "source": [
        "## 3. 반환값, return\n",
        "\n",
        "여태까지는 함수가 `print()`만 하였습니다. 하지만 함수를 이용해서 값을 받아오거나, 이를 다시 수정하거나 다음에 사용할 수도 있습니다.\n",
        "\n",
        "아래의 함수는 2 로 나눈 값을 반환하게 됩니다.\n",
        "```python\n",
        "  def divide_by_2(input_number):\n",
        "    return input_number / 2\n",
        "```\n",
        "\n",
        "반값 후려치기의 달인 릭 아저씨가 함수를 두 번 사용한다면\n",
        "\n",
        "💰6000 달러💰 값어치의 물건을 1500 달러에 구매를 하겠지요?\n",
        "\n",
        "```python\n",
        "price = 6000 # 원가\n",
        "print(price,\"달러에 사겠습니다\")\n",
        "```\n",
        "<img src = \"https://i.ytimg.com/vi/zW_hGPWdE2M/maxresdefault.jpg\" width = \"800\">"
      ]
    },
    {
      "cell_type": "code",
      "metadata": {
        "id": "3zF_n70SkYKq"
      },
      "source": [
        "def divide_by_2(input_number):\n",
        "  print(\"릭 아저씨의 반값 후려치기!\")\n",
        "  return input_number / 2\n",
        "\n",
        "price = 6000\n",
        "print(price,\"달러에 사겠습니다\")\n",
        "\n",
        "divide_by_2(price)\n",
        "print(price)\n",
        "\n",
        "price = 15000#1500달러에 사려면?\n",
        "print(price,\"달러에 사겠습니다\")"
      ],
      "execution_count": null,
      "outputs": []
    },
    {
      "cell_type": "markdown",
      "metadata": {
        "id": "Mx3F69egN7yM"
      },
      "source": [
        "![대체 텍스트](https://i.postimg.cc/wTJTXSnX/3.png)"
      ]
    },
    {
      "cell_type": "code",
      "metadata": {
        "id": "GVfk8iChNSFB"
      },
      "source": [
        "def divide_by_3(input_number):\n",
        "\n",
        "  return_number = input_number / 3\n",
        "  return return_number\n",
        "  print('3으로 나눴습니다.')\n",
        "\n",
        "\n",
        "print(divide_by_3(10))\n"
      ],
      "execution_count": null,
      "outputs": []
    },
    {
      "cell_type": "markdown",
      "metadata": {
        "id": "8xo6rQqwlQEe"
      },
      "source": [
        "### 4. 여러 개의 반환값, multiple returns\n",
        "\n",
        "여러 개의 인수(argument)를 받아온 것 처럼, 여러 개의 반환값을 return 해줄 수도 있습니다.\n",
        "\n"
      ]
    },
    {
      "cell_type": "code",
      "metadata": {
        "id": "iRGLyXS6luuv"
      },
      "source": [
        "def sample():\n",
        "    str_tmp = \"geeksforgeeks\"\n",
        "    x   = 20\n",
        "    return str_tmp, x # , 로 값을 여러 개 반환할 수 있습니다\n",
        "\n",
        "str_tmp, x = sample() # 마찬가지로 여러 개 값을 한 번에 받아올수 있습니다\n",
        "print(str_tmp)\n",
        "print(x)"
      ],
      "execution_count": null,
      "outputs": []
    },
    {
      "cell_type": "markdown",
      "metadata": {
        "id": "qOwNeu9rNh02"
      },
      "source": [
        "![대체 텍스트](https://i.postimg.cc/4xRf3BLW/1-2.png)"
      ]
    },
    {
      "cell_type": "markdown",
      "metadata": {
        "id": "UUUWmPhNF-xM"
      },
      "source": [
        "# 📌 Step 4. 파이썬 - 리스트"
      ]
    },
    {
      "cell_type": "markdown",
      "metadata": {
        "id": "pFjwZxRKN84A"
      },
      "source": [
        "![대체 텍스트](https://i.postimg.cc/wTJTXSnX/3.png)"
      ]
    },
    {
      "cell_type": "markdown",
      "metadata": {
        "id": "IDSr6erb91Tv"
      },
      "source": [
        "## 1. 리스트(List) 란?\n",
        "\n",
        "리스트는 숫자와 문자열만으로는 표현할 수 있는 것들에 한계가 존재해서 그 부분을 보완하기 위해 만든 것입니다.\n",
        "파이썬의 자료 구조 형태 중 하나로 리스트는 값을 나열하는 것으로 정의됩니다.\n"
      ]
    },
    {
      "cell_type": "markdown",
      "metadata": {
        "id": "_OzIJrlIMw90"
      },
      "source": [
        "\n",
        "###  LIST의 특징 (※이건 꼭 기억하기!※)🔥🔥🔥\n",
        "\n",
        "ⓛ 순서 O\n",
        "\n",
        "② 중복 O\n",
        "\n",
        "③ 수정 O\n",
        "\n",
        "④ 삭제 O\n",
        "\n",
        "⑤ 여러개의 값을 묶어서 저장 가능"
      ]
    },
    {
      "cell_type": "markdown",
      "metadata": {
        "id": "CMpcL_RUMq-p"
      },
      "source": [
        "\n",
        "\n",
        "---\n",
        "\n",
        "\n",
        "### ⚡ List가 왜 중요할까요? ⚡\n",
        "\n",
        "**데이터 베이스에서 값을 가져오거나, 웹이나 인터넷에서 크롤링을 할때에도 리스트는 가장 기본적인 데이터 형태**로써 아주 많이 쓰이기 때문에, List는 간단하지만 아주 중요한 개념이에요!\n",
        "\n",
        "데이터 분석을 하는 사람들에게도 필수적입니다.\n",
        "넘파이나 판다스같은 프로그램에서 2차원 3차원의 형태로 생긴 데이터를 리스트 형태로 담고있습니다.\n",
        "매커니즘은 조금씩 다르지만, 기본적으로 데이터를 삽입하고 가져오는 형태는 비슷하기 때문에 List개념을 잘 배워놓으면 앞으로 파이썬을 효율적으로 사용할 수 있게 될거에요!\n",
        "\n",
        "\n",
        "---\n",
        "\n"
      ]
    },
    {
      "cell_type": "markdown",
      "metadata": {
        "id": "OkjJz3DoMuau"
      },
      "source": [
        "\n",
        "### List 만들기\n",
        "\n",
        "리스트의 구조는 단순합니다. 변수로 리스트를 정의하고  대괄호 안에 여러 개의 값을 넣고 각각을 콤마 (,) 로 구분하면 됩니다.\n",
        ">예) 바다에 사는 것들 = [ 🐳, 🦀, 🐚, 🧜🏻‍♀️, 🐬 ]\n",
        "> List 를 만들어봅시다\n"
      ]
    },
    {
      "cell_type": "code",
      "metadata": {
        "id": "ET7sFHboWFpV"
      },
      "source": [
        "#List_name(변수) = [a,b,c]\n",
        "corona_counts = [114, 1091, 2163, 50184]  # 4개 국가의 코로나 현황을 담는 list 를 생성합니다\n",
        "print(\"각 국가의 코로나 바이러스 현황은?\")\n",
        "print(corona_counts)"
      ],
      "execution_count": null,
      "outputs": []
    },
    {
      "cell_type": "markdown",
      "metadata": {
        "id": "4maRmBJ_Wook"
      },
      "source": [
        "`corona_counts` 라는 변수의 이름에  114, 1091, 2163, 50184 와 같은 여러 개의 값을 담을 수 있습니다.\n",
        "이게 바로 List 입니다.\n",
        "\n"
      ]
    },
    {
      "cell_type": "markdown",
      "metadata": {
        "id": "rvXOqZsFN_EA"
      },
      "source": [
        "![대체 텍스트](https://i.postimg.cc/wTJTXSnX/3.png)"
      ]
    },
    {
      "cell_type": "markdown",
      "metadata": {
        "id": "gDHUR8aRbqP7"
      },
      "source": [
        "### 2. List에 문자 담기\n",
        "\n",
        "  리스트에는 숫자(int 또는 float) 뿐만 아니라 텍스트(string) 도 담을 수 있습니다.\n",
        "  텍스트를 list에 넣을 때는, 작은 따옴표('`이건 string`') 로 감싸서  넣어 줘야 합니다.\n"
      ]
    },
    {
      "cell_type": "markdown",
      "metadata": {
        "id": "261r2L8uX8-c"
      },
      "source": [
        "> 🔍 아래 예제를 보고 야식 리스트를 만들어보세요\n",
        "> * 만약 에러가 뜬다면 입력 값들 사이에 콤마 (,) 를 표시했는지 살펴 보세요\n",
        "\n"
      ]
    },
    {
      "cell_type": "code",
      "metadata": {
        "id": "gTRy61pnX8Bp"
      },
      "source": [
        "# 야식을 리스트로 만들어서 출력해보세요!\n",
        "\n",
        "yasik = ['족발','피자','초밥']\n",
        "print(\"내가 먹고 싶은 야식 리스트 \")\n",
        "print(yasik) # yasik list를 출력합니다."
      ],
      "execution_count": null,
      "outputs": []
    },
    {
      "cell_type": "markdown",
      "metadata": {
        "id": "Zx5gVYrS3ntO"
      },
      "source": [
        "> 또한 list에 숫자와 텍스트 둘다 넣을 수 있습니다."
      ]
    },
    {
      "cell_type": "code",
      "metadata": {
        "id": "a-zQA--tPck5"
      },
      "source": [
        "# 아래는 음식 이름과 가격을 갖는 order list 입니다\n",
        "order = ['떡볶이', '3인분', 15000]\n",
        "\n",
        "print(\"내 주문 정보\")\n",
        "print(order) # order list를 출력합니다."
      ],
      "execution_count": null,
      "outputs": []
    },
    {
      "cell_type": "markdown",
      "metadata": {
        "id": "-Yu2jOo5N_sU"
      },
      "source": [
        "![대체 텍스트](https://i.postimg.cc/wTJTXSnX/3.png)"
      ]
    },
    {
      "cell_type": "markdown",
      "metadata": {
        "id": "uic8wjEEh0lm"
      },
      "source": [
        "### 3. List 에 List 담기\n",
        "\n",
        "List에는 숫자, 문자뿐만 아니라 심지어 다른 리스트를 담을 수 있습니다!\n",
        " 리스트 안에 다른 리스트를 넣을 때는 대괄호를 하나 더 써줘야 합니다.\n",
        "\n",
        " `[  [ ]  ]` 이렇게요."
      ]
    },
    {
      "cell_type": "code",
      "metadata": {
        "id": "7WCarWR2h5pY"
      },
      "source": [
        "# list 안에 list\n",
        "cheese_list = [['치즈'],['크림치즈','고르곤졸라치즈'],['사워크림치즈','허니버터치즈','어니언갈릭치즈']]\n",
        "print(cheese_list)"
      ],
      "execution_count": null,
      "outputs": []
    },
    {
      "cell_type": "markdown",
      "metadata": {
        "id": "wvOxE_BYOApH"
      },
      "source": [
        "![대체 텍스트](https://i.postimg.cc/wTJTXSnX/3.png)"
      ]
    },
    {
      "cell_type": "markdown",
      "metadata": {
        "id": "YDFV2ou6j0H4"
      },
      "source": [
        "## 4.append() 리스트에 값을 추가하기\n",
        "리스트에 다른 값을 추가하고 싶을 때는 `.append()`라는 함수를 사용하여 새로운 값을 추가할 수 있습니다.\n",
        " `.append()` 함수는 리스트 이름 뒤에 붙여야 합니다!  만약 위의 `cheese_list` 라는 리스트에 값을 추가할 경우에는\n",
        "\n",
        "`cheese_list.append('추가하고 싶은 치즈')  `  이런 식으로 말이죠."
      ]
    },
    {
      "cell_type": "code",
      "metadata": {
        "id": "wLDBFkbsj0H6"
      },
      "source": [
        "# 먼저 치즈 리스트를 출력해볼까요?\n",
        "cheese_list = ['치즈', '크림치즈', '고르곤졸라치즈', '사워크림치즈', '허니버터치즈', '어니언갈릭치즈']\n",
        "\n",
        "cheese_list.append(\"나만의치즈\")\n",
        "\n",
        "cheese_list.append(\"나만의치즈\")\n",
        "\n",
        "print(cheese_list)"
      ],
      "execution_count": null,
      "outputs": []
    },
    {
      "cell_type": "markdown",
      "metadata": {
        "id": "V-sl5tcrj0H6"
      },
      "source": [
        "> 🔍 세상에 존재하지 않는 치즈를 추가해보세요"
      ]
    },
    {
      "cell_type": "code",
      "metadata": {
        "id": "RxPRmLPLj0H7"
      },
      "source": [
        "# 여기에 만들어보세요\n",
        "cheese_list.??????(???)\n",
        "\n",
        "print(cheese_list)    # 만약 TypeError가 뜬다면 추가한 치즈를 string 형태나 list 형태로 바꿔보세요"
      ],
      "execution_count": null,
      "outputs": []
    },
    {
      "cell_type": "markdown",
      "metadata": {
        "id": "tKJHJtYAOCcj"
      },
      "source": [
        "![대체 텍스트](https://i.postimg.cc/wTJTXSnX/3.png)"
      ]
    },
    {
      "cell_type": "markdown",
      "metadata": {
        "id": "2gWBJ7av6gab"
      },
      "source": [
        "## 5.pop() 리스트에 값을 제거하기\n",
        "리스트에 마지막 요소를 제거하고 싶을때는 `.pop()`라는 함수를 사용하여 마지막 값을 제거할 수 있습니다.\n",
        " `.pop()` 함수도도 리스트 이름 뒤에 붙여야 합니다!  만약 위의 `cheese_list` 리스트에 있는 마지막 요소를 제거할 경우\n",
        "\n",
        "`cheese_list.pop( )  ` 이런식으로 작성하면 `cheese_list`에 어니언 갈릭치즈가 제거됩니다.\n",
        "\n",
        "**마지막 요소를 제거할때는 괄호안에 아무것도 넣지 않는다는 점을 기억하세요!**"
      ]
    },
    {
      "cell_type": "code",
      "source": [
        "# 먼저 치즈 리스트를 출력해볼까요?\n",
        "cheese_list = ['치즈', '크림치즈', '고르곤졸라치즈', '사워크림치즈', '허니버터치즈', '어니언갈릭치즈']\n",
        "\n",
        "print(cheese_list.pop())"
      ],
      "metadata": {
        "id": "-tFhMMWj7tD6"
      },
      "execution_count": null,
      "outputs": []
    },
    {
      "cell_type": "markdown",
      "metadata": {
        "id": "PADXq1NK6gac"
      },
      "source": [
        "> ⛔마지막 요소를 제거해보세요"
      ]
    },
    {
      "cell_type": "code",
      "metadata": {
        "id": "jGW86gon6gac"
      },
      "source": [
        "# 여기에 만들어보세요\n",
        "cheese_list.???()\n",
        "\n",
        "print(cheese_list)    # 만약 TypeError가 뜬다면 추가한 치즈를 string 형태나 list 형태로 바꿔보세요"
      ],
      "execution_count": null,
      "outputs": []
    },
    {
      "cell_type": "markdown",
      "metadata": {
        "id": "-NgG9DCkhmae"
      },
      "source": [
        "## 6. 리스트 인덱싱 (index)\n",
        "\n",
        "### 인덱싱(index)\n",
        "리스트는 문자열과 같이 인덱싱을 적용하여  리스트 안의 값들을 가져올 수 있습니다.\n",
        "\n",
        "\n",
        "` num = [0,1,2,3,4,5]` 라는  list가 있을 때,\n",
        "\n",
        "- `num[0]` 은 num 리스트의 첫 번째 요소값을 말합니다.\n",
        "- `num[1]` 은 두 번째, `num[2]`는 세 번째... 이렇게 순서대로 리스트안의 요소값을 말합니다.\n",
        "\n",
        " 어? 😵 근데 왜 `num[1]`이 두 번째 숫자인가 하고 궁금하실 거에요.\n",
        "\n",
        " 그 이유는 **파이썬은 0부터 숫자를 세기 때문이죠!**\n"
      ]
    },
    {
      "cell_type": "markdown",
      "metadata": {
        "id": "w6ENSzQu7Sqt"
      },
      "source": [
        "> 인덱싱을 통해 특정 위치의 값을 불러 출력할 수 있습니다."
      ]
    },
    {
      "cell_type": "code",
      "metadata": {
        "id": "xHUWzmlQq0u9"
      },
      "source": [
        "list1 = [0,3,5,4]  # list1이라는 리스트가 있습니다.\n",
        "print(\"list1  안에 있는 세 번째 값은:\")\n",
        "print(list1[2]) # list1에서 세 번째에 들어있는 값을 print 합니다.\n",
        "\n",
        "# 쉽죠? 그럼 이제 숫자 말고 텍스트도 볼까요?\n",
        "list2 = [ 'i', 'love','you', 3000]\n",
        "print(\"list2 안에 있는 두 번째 단어를 print:\")\n",
        "print(list2[1])  # love는 두 번째 단어니까 list2[1] 이겠죠?"
      ],
      "execution_count": null,
      "outputs": []
    },
    {
      "cell_type": "markdown",
      "metadata": {
        "id": "cMLDagaR7dur"
      },
      "source": [
        "> 🔍 위 리스트에서 3000이라는 숫자를 print 해보세요!"
      ]
    },
    {
      "cell_type": "code",
      "metadata": {
        "id": "dGDG4MmF7iRo"
      },
      "source": [
        "# 여기에\n",
        "list1 = [0,3,5,4]  # list1이라는 리스트가 있습니다.\n",
        "print(\"list1  안에 있는 세 번째 값은:\")\n",
        "print(list1[2])\n",
        "\n",
        "# 역순의 인덱스도 한 번 활용해볼까요?"
      ],
      "execution_count": null,
      "outputs": []
    },
    {
      "cell_type": "markdown",
      "metadata": {
        "id": "tZDEzFLazVw0"
      },
      "source": [
        "##⌛ QUIZ ⌛\n",
        "<img src='https://i.postimg.cc/vZRs4rfm/image.png' border='0'></a>\n",
        "*   그림과 같이 '김마인'님의 고객 보험 정보 LIST가 있는데,\n",
        "    여기서 인덱스를 사용하여 '나이'만 뽑으려면 어떻게 해야할까요?\n"
      ]
    },
    {
      "cell_type": "code",
      "metadata": {
        "id": "LaSKFZw90Tm8"
      },
      "source": [
        "# 여기에 답을 적어볼까요?\n",
        "info=['김마인','여자',30,'B']\n",
        "print(???)"
      ],
      "execution_count": null,
      "outputs": []
    },
    {
      "cell_type": "markdown",
      "metadata": {
        "id": "24eDisASODtn"
      },
      "source": [
        "![대체 텍스트](https://i.postimg.cc/wTJTXSnX/3.png)"
      ]
    },
    {
      "cell_type": "markdown",
      "metadata": {
        "id": "uePdRr-auvQl"
      },
      "source": [
        "### 7. 슬라이싱(slicing)\n",
        "\n",
        "슬라이싱은 말 그대로 문자열이나 리스트에서 단순히 한 문자만 뽑아내는 것이 아니라 원하는 값을 여러 개 가져오는 기능입니다.\n",
        "* list[시작:끝]   이렇게 생겼습니다.\n",
        "\n",
        "\n",
        "파이썬에서는 문자열도 리스트에서와 같이 인덱싱과 슬라이싱이 가능합니다.\n",
        "\n",
        "\n",
        "\n"
      ]
    },
    {
      "cell_type": "markdown",
      "metadata": {
        "id": "UlvTWMXpdh9I"
      },
      "source": [
        " 슬라이싱은 자주 헷갈리는 부분이기 때문에 잘 짚고 넘어가도록 해요!\n",
        "\n",
        "\n",
        " 🔍 그렇다면, 아래 그림에서 잘못된 부분을 찾아보세요!\n",
        "\n",
        "\n",
        "<img src='https://i.postimg.cc/RhDXWLYV/image.png' width='700' border='0'></a>\n",
        "\n",
        "그럼 이제 문자열(string)과 배열(list)을 slicing 해보겠습니다."
      ]
    },
    {
      "cell_type": "code",
      "metadata": {
        "id": "leLwtBAMxm1u"
      },
      "source": [
        "# 문자열을 slicing 하면\n",
        "text = \"i love you 3000\"\n",
        "text = text[0:6]  # index 0부터 ~ index 6 전의 index 5까지 가져옵니다\n",
        "print(\"인덱스 0 부터 6까지 값을 출력하면:\")\n",
        "print(text) # 가져온 값을 살펴봅시다"
      ],
      "execution_count": null,
      "outputs": []
    },
    {
      "cell_type": "markdown",
      "metadata": {
        "id": "ttOmAhSizOW8"
      },
      "source": [
        "문장에서 0부터 6 번째 자리에 있는 단어들이 출력 되었습니다!\n",
        "그럼 이제 배열 slicing을 해볼게요. 배열도 마찬가지입니다. 배열 인덱싱도 방식은 동일합니다."
      ]
    },
    {
      "cell_type": "code",
      "metadata": {
        "id": "3pPVWROvznXy"
      },
      "source": [
        "list3 = ['i','love','you','3000']\n",
        "result = ???     # 리스트에서 첫 번째 부터 두 번째 값을 가져옵니다.\n",
        "print(\"list3 안의 첫 번째 부터 두 번째까지의 값은:\")\n",
        "print(result)\n",
        "print(\"위 문장을 모두 slicing을 이용해서 가져오고 print 해보세요!\")\n",
        "\n",
        "# list[시작:끝]을 result라는 변수에 넣고 출력해보세요\n"
      ],
      "execution_count": null,
      "outputs": []
    },
    {
      "cell_type": "markdown",
      "metadata": {
        "id": "f6JeCmsP1rGW"
      },
      "source": [
        "list [시작: 끝] 에서 위에서 한 것처럼 범위를 지정할 수도 있지만,  시작과 끝 부분을 얻어보는 방법을 더 쉽게 표현 할 수 있습니다.\n",
        "\n",
        "\n",
        "* list [ 2 : ]  : 3번째부터 끝까지 가져옴\n",
        "* list [ : 2 ] : 처음부터 2번째 까지 반환\n",
        "* list [ : ] : 처음부터 끝까지 전부 반환\n",
        "\n",
        "> 🔍 위 내용을 참고해서 아래 예제의 리스트에서 처음부터 3번째 값을 가져와 출력해 보세요\n"
      ]
    },
    {
      "cell_type": "code",
      "metadata": {
        "id": "NjKx70Ka2neZ"
      },
      "source": [
        "# 아래 list4에서 처음부터 3번째 '끝' 까지만 가져와 보세요\n",
        "list4 = ['이제','수업','끝','남','잠시 휴식','시간 가져요']\n",
        "\n",
        "answer = list4[:3]\n",
        "\n",
        "print(answer) # 가져온 값을 출력해 봅니다"
      ],
      "execution_count": null,
      "outputs": []
    },
    {
      "cell_type": "markdown",
      "metadata": {
        "id": "56MhsVrPP3Zx"
      },
      "source": [
        "##⌛ QUIZ ⌛\n",
        "\n",
        "<img src='https://i.postimg.cc/gJ0V368w/2.png' width='450' border='0'></a>\n",
        "\n",
        "- 인사팀에서 신입사원을 대상으로한 교육분반 표를 만들었습니다.\n",
        "\n",
        "  이 중, 슬라이싱을 통해 '부서'와 '반'에 해당하는 데이터만 뽑으려면 어떻게 해야할까요?"
      ]
    },
    {
      "cell_type": "code",
      "metadata": {
        "id": "0J0TH6bH5zB9"
      },
      "source": [
        "# 여기에 답을 적어볼까요\n",
        "person_info=['김마인', '마케팅', 'C']\n",
        "answer=person_info"
      ],
      "execution_count": null,
      "outputs": []
    },
    {
      "cell_type": "markdown",
      "metadata": {
        "id": "uOebW3V5Nj-2"
      },
      "source": [
        "![대체 텍스트](https://i.postimg.cc/4xRf3BLW/1-2.png)\n"
      ]
    },
    {
      "cell_type": "markdown",
      "metadata": {
        "id": "m4VPFjS_4vpV"
      },
      "source": [
        "# 📌 Step 5. 파이썬으로 조건에 따라 다른 명령 내리기\n",
        "\n"
      ]
    },
    {
      "cell_type": "markdown",
      "metadata": {
        "id": "pAYwRiHQUmnr"
      },
      "source": [
        "## 1. IF문이란?\n",
        "\n",
        "\n",
        "파이썬에서 어떤 문장에서 주어진 조건을 판단한 후 상황에 맞게 다른 명령을 내리는 것을 생각해볼 수 있습니다.\n",
        "\n",
        "예를 들면, \"만약 ~하다면 이렇게 해주고, 그렇지 않다면 저렇게 해줘!\"와 같은 명령을 내리고 싶은 경우라고 할 수 있겠죠?\n",
        "\n"
      ]
    },
    {
      "cell_type": "markdown",
      "metadata": {
        "id": "zrK2g_v-aUF2"
      },
      "source": [
        "가장 간단하게 다음과 같이 어떤 조건이 **참(True)**일때 어떤 동작을 실행하게 할 수 있습니다.\n",
        "```\n",
        "if <조건> :\n",
        "    <조건이 참일 경우 취할 동작>  # 자동으로 Tab이 한칸 들어가게 됩니다\n",
        "```"
      ]
    },
    {
      "cell_type": "code",
      "metadata": {
        "id": "_rq3ObOC4xpb",
        "colab": {
          "base_uri": "https://localhost:8080/"
        },
        "outputId": "5c335296-601c-4fa8-889d-d49d667dd640"
      },
      "source": [
        "a = 123\n",
        "if a == 123:\n",
        "  print('a는 123!')\n",
        "\n",
        "a = 126\n",
        "if a==123:\n",
        "  print('a는 123!')\n",
        "print('안녕!')"
      ],
      "execution_count": null,
      "outputs": [
        {
          "output_type": "stream",
          "name": "stdout",
          "text": [
            "a는 123!\n",
            "안녕!\n"
          ]
        }
      ]
    },
    {
      "cell_type": "code",
      "metadata": {
        "id": "iIwkidiKkGd3",
        "colab": {
          "base_uri": "https://localhost:8080/"
        },
        "outputId": "c883a464-efde-4bce-f802-7f5900c905b1"
      },
      "source": [
        "a = 150\n",
        "if a < 100:\n",
        " print('a는 100보다 작다!')\n",
        "\n",
        "\n",
        "a = 11\n",
        "if a==1:\n",
        "  print('a는 홀수입니다')\n",
        "else :\n",
        "    print('a는 짝수입니다.')"
      ],
      "execution_count": null,
      "outputs": [
        {
          "output_type": "stream",
          "name": "stdout",
          "text": [
            "a는 짝수입니다.\n"
          ]
        }
      ]
    },
    {
      "cell_type": "markdown",
      "metadata": {
        "id": "rSlPrrnG42lE"
      },
      "source": [
        "<img src='https://i.postimg.cc/3JyhJKfY/image.png' border='0'></a>\n",
        "\n",
        "조건이 거짓일 때도 다음 일을 시키려면 다음과 같은 if-else 문을 사용하면 됩니다.\n",
        "```\n",
        "if <조건> :\n",
        "    <조건이 참일 경우 취할 동작>  # 자동으로 Tab이 한칸 들어가게 됩니다\n",
        "else:\n",
        "    <조건이 거짓일 경우 취할 동작>\n",
        "```\n"
      ]
    },
    {
      "cell_type": "code",
      "metadata": {
        "id": "VQmoUVVS48PU"
      },
      "source": [
        "a = 10\n",
        "if a%2==1:\n",
        "  # a가 홀수이면\n",
        "  print(\"a는 홀수입니다!\")\n",
        "else:\n",
        "  print(\"a는 짝수입니다!\")"
      ],
      "execution_count": null,
      "outputs": []
    },
    {
      "cell_type": "markdown",
      "metadata": {
        "id": "jS1rHicqOIWK"
      },
      "source": [
        "![대체 텍스트](https://i.postimg.cc/wTJTXSnX/3.png)"
      ]
    },
    {
      "cell_type": "markdown",
      "metadata": {
        "id": "kx-a6Z9Sa8io"
      },
      "source": [
        "## 2. 조건을 만드는 방법 1 : 비교연산자"
      ]
    },
    {
      "cell_type": "markdown",
      "metadata": {
        "id": "W_FJSayfmrV9"
      },
      "source": [
        "### 비교연산이란?\n",
        "\n",
        "조건문은 어떤 조건이 만족(true)해야만 작동됩니다.\n",
        "이 조건을 컨트롤하기 위해서는 비교 연산자를 사용합니다.\n",
        "\n",
        "파이썬에서 사용되는 비교연산자는 아래와 같습니다.\n",
        "![](https://mblogthumb-phinf.pstatic.net/MjAxNzA3MThfMjMw/MDAxNTAwMzA4MjIwMjQ2.MPFU3AZHD3Nt55rFcU0gFoRcTPXYM41kyhe1OqDfPqAg.2-ZVQQbQonKM7CUYYSger4jwZLUOEljdv9FCs79ePWwg.PNG.heartflow89/image.png?type=w800)\n",
        "\n",
        "`==` : 같다 (`=` 과 혼동하기 쉽습니다. `=` 은 컴퓨터 언어에서 '같다'는 뜻이 아니라 지정하는 역할로 쓰입니다.)\n",
        "\n",
        "`!=` :  같지않다\n",
        "\n",
        "`a < b` : a는 b보다 작다\n",
        "\n",
        "`a > b` : a는 b 보다 크다\n",
        "\n",
        "`a >= b` : a는 b보다 같거나 크다\n",
        "\n",
        "`a <= b` : a는 b보다 같거나 작다\n",
        "\n"
      ]
    },
    {
      "cell_type": "markdown",
      "metadata": {
        "id": "98qoGv8O6cE8"
      },
      "source": [
        "🔍 아래 코드에서 if의 조건을 **'i 가 10 보다 크거나 같다면'**으로 바꿔주세요"
      ]
    },
    {
      "cell_type": "code",
      "metadata": {
        "id": "7dE8mnoVnXXO",
        "colab": {
          "base_uri": "https://localhost:8080/"
        },
        "outputId": "aa8c4edb-f412-4de8-a3c5-df89160abc64"
      },
      "source": [
        "i = 20\n",
        "if i <= 10:   # 'i 가 10 보다 크거나 같다면'으로 바꿔주세요\n",
        "  print(i)       # i를 출력한다\n",
        "\n",
        "\n",
        "i=20\n",
        "if i>10 and i<30:\n",
        "  print(i)"
      ],
      "execution_count": null,
      "outputs": [
        {
          "output_type": "stream",
          "name": "stdout",
          "text": [
            "20\n"
          ]
        }
      ]
    },
    {
      "cell_type": "markdown",
      "metadata": {
        "id": "e3vZ7BQNOnR3"
      },
      "source": [
        "![대체 텍스트](https://i.postimg.cc/wTJTXSnX/3.png)"
      ]
    },
    {
      "cell_type": "markdown",
      "metadata": {
        "id": "gka2_pNFUo2l"
      },
      "source": [
        "## 3. 조건을 만드는 방법 2 : 논리연산자\n",
        "\n",
        "\n"
      ]
    },
    {
      "cell_type": "markdown",
      "metadata": {
        "id": "qnVFtMaytiOK"
      },
      "source": [
        "### 논리연산이란?\n",
        "\n",
        "복합된 조건문들을 완성하기 위해서는 논리연산자가 필요합니다.\n",
        "\n",
        "\n",
        "파이썬에서 사용되는 논리연산자는 아래와 같습니다.\n",
        "\n",
        "- `조건 A` **and** `조건 B` :  `A조건`,`B조건` 모두 만족해야함. A∩B\n",
        "\n",
        "- `조건 A` **or** `조건 B` : `A조건` 또는 `B조건` 둘중 하나만 만족해도 됨. A∪B\n",
        "\n",
        "- **not** `조건 A` : `A조건`이 아닌 것을 뜻함. ≠A\n"
      ]
    },
    {
      "cell_type": "markdown",
      "metadata": {
        "id": "_1pPSvLc7MWr"
      },
      "source": [
        "🔍 **'i가 10보다 크고, 30보다는 작을 경우'**라는 조건을 표현하려면?"
      ]
    },
    {
      "cell_type": "code",
      "metadata": {
        "id": "oHrcAtep7MWt"
      },
      "source": [
        "i = 20\n",
        "if i> 10 and i < 30 :   # '???에 들어갈 말을 채워주세요.\n",
        "  print(i)       # i를 출력한다"
      ],
      "execution_count": null,
      "outputs": []
    },
    {
      "cell_type": "markdown",
      "metadata": {
        "id": "HrBJaVd6yoCE"
      },
      "source": [
        "![대체 텍스트](https://i.postimg.cc/wTJTXSnX/3.png)"
      ]
    },
    {
      "cell_type": "markdown",
      "metadata": {
        "id": "5JECFdvNy6y4"
      },
      "source": [
        "## ⌛ QUIZ 1 ⌛"
      ]
    },
    {
      "cell_type": "markdown",
      "metadata": {
        "id": "WkFaHyPoQ-h5"
      },
      "source": [
        "<img src='https://i.postimg.cc/pLG198mS/image.png' border='0'></a>\n",
        "\n",
        "*   △△은행에서 대출 심사를 하는 중입니다.\n",
        "    Score1이 기업 평가지수이고, Score2가 신용등급을 알려주는 점수입니다.\n",
        "\n",
        "    이때, 기업 평가지수가 80점 이상이고, 신용등급이 'A'라면 'Accepted'를\n",
        "    그렇지 않다면 'Rejected'라는 문구를 띄우려면 어떻게 해야할까요?\n",
        "\n",
        "    (IF문 사용하기)"
      ]
    },
    {
      "cell_type": "code",
      "metadata": {
        "id": "3_4VOR59_ktv",
        "colab": {
          "base_uri": "https://localhost:8080/"
        },
        "outputId": "708c2d8b-f5ec-46a2-d3b4-9abf0b4bf4f7"
      },
      "source": [
        "# ○○기업의 점수가 아래와 같다면 답은 어떻게 될까요?\n",
        "\n",
        "score1 = 70\n",
        "score2 = 'A'\n",
        "\n",
        "if score1 > 80 and score2 =='A':\n",
        "  print('Accepted')\n",
        "else:\n",
        "  print('Rejected')"
      ],
      "execution_count": null,
      "outputs": [
        {
          "output_type": "stream",
          "name": "stdout",
          "text": [
            "Rejected\n"
          ]
        }
      ]
    },
    {
      "cell_type": "code",
      "metadata": {
        "id": "T_8_l0Y85bgd",
        "colab": {
          "base_uri": "https://localhost:8080/"
        },
        "outputId": "9193095b-6ffc-4771-8dc4-378f9b929af0"
      },
      "source": [
        "# 만약, ○○기업의 점수가 90점으로 향상된다면 결과는 어떻게 될까요?\n",
        "\n",
        "score1 = 90\n",
        "score2 = 'A'\n",
        "\n",
        "# 여기에 답을 적어볼까요?\n",
        "if score1 >=80 and score2 == \"A\":\n",
        "  print(\"accepted\")\n",
        "else:\n",
        "  print(\"reject\")\n",
        "\n"
      ],
      "execution_count": null,
      "outputs": [
        {
          "output_type": "stream",
          "name": "stdout",
          "text": [
            "accepted\n"
          ]
        }
      ]
    },
    {
      "cell_type": "markdown",
      "metadata": {
        "id": "2jZPqvVMzPGh"
      },
      "source": [
        "![대체 텍스트](https://i.postimg.cc/wTJTXSnX/3.png)"
      ]
    },
    {
      "cell_type": "markdown",
      "metadata": {
        "id": "-rC3BJptzPGj"
      },
      "source": [
        "## 4. 병렬의 조건이 두개 이상일땐? : **elif**"
      ]
    },
    {
      "cell_type": "markdown",
      "metadata": {
        "id": "j43xMZt4zPGl"
      },
      "source": [
        "### 다중조건문 : elif\n",
        "\n",
        "병렬의 조건이 두개이상 필요할때는 else + if라는 뜻의 elif를 쓰면 됩니다.\n",
        "\n"
      ]
    },
    {
      "cell_type": "markdown",
      "metadata": {
        "id": "5dVHBaPgGiLa"
      },
      "source": [
        "<img src='https://i.postimg.cc/wjXjgq33/elif.png' width='780' border='0'></a>"
      ]
    },
    {
      "cell_type": "markdown",
      "metadata": {
        "id": "HuywQxNFGxTh"
      },
      "source": [
        " 다음과 같이 맨 앞에 if를 쓰고, 그 다음 조건들 앞에는 elif를 쓰고, 맨 마지막에 else를 사용할 수 있습니다.\n",
        "```\n",
        "if <조건1> :\n",
        "    <조건1이 참일 경우 취할 동작>  # 자동으로 Tab이 한칸 들어가게 됩니다\n",
        "\n",
        "elif <조건2> :\n",
        "    <조건2가 참일 경우 취할 동작> # 자동으로 Tab이 한칸 들어가게 됩니다\n",
        "\n",
        "elif <조건3> :\n",
        "    <조건3이 참일 경우 취할 동작>\n",
        "\n",
        "else :\n",
        "    < 조건1,2,3,4가 거짓일 경우 취할 동작>\n",
        "```"
      ]
    },
    {
      "cell_type": "code",
      "metadata": {
        "id": "z5qWokLKGxTi"
      },
      "source": [
        "num = 75\n",
        "\n",
        "if num >= 80 :\n",
        "  print('등급 : A')\n",
        "elif num >= 70 :\n",
        "  print('등급 : B')\n",
        "elif num >= 60 :\n",
        " print('등급 : C')\n",
        "else :\n",
        "  print('탈락')\n"
      ],
      "execution_count": null,
      "outputs": []
    },
    {
      "cell_type": "markdown",
      "metadata": {
        "id": "LnzaDyfK82Zc"
      },
      "source": [
        "![대체 텍스트](https://i.postimg.cc/wTJTXSnX/3.png)"
      ]
    },
    {
      "cell_type": "markdown",
      "metadata": {
        "id": "xlExy36o82Zf"
      },
      "source": [
        "## 5.조건 안에 조건이 있을땐? : **if안에 if**"
      ]
    },
    {
      "cell_type": "markdown",
      "metadata": {
        "id": "zhy-9JwM82Zg"
      },
      "source": [
        "### 중첩조건문 : if 안에 if\n",
        "\n",
        "하나의 조건 안에 조건들이 또 있을 때는 if문 안에 if문을 쓰는 중첩조건문 형식을 활용할 수 있습니다!\n",
        "\n",
        "형식은 아래 보는 그림과 같이 if문의 조건이 만족할 때 취할 동작을 적어주는 부분에 다시 작은 if문을 하나 더 넣으면 됩니다.\n",
        "<img src='https://i.postimg.cc/XNBZt0KB/if.png' width='900' border='0'></a>"
      ]
    },
    {
      "cell_type": "code",
      "metadata": {
        "id": "LMYHd5XVSr4H"
      },
      "source": [
        "#인사고과 등급과 점수에 따라 성과급 지급을 정해주는 시스템을 만든다고 했을 때, 다음과 같은 예시를 들어볼 수 있습니다.\n",
        "\n",
        "등급 = 'A'\n",
        "점수 = 86\n",
        "\n",
        "if 등급 == 'A' :\n",
        "  if 점수 >= 90 :\n",
        "    print('성과급 40%')\n",
        "  elif 점수 >= 85 :\n",
        "    print('성과급 30%')\n",
        "  else :\n",
        "    print('성과급 20%')\n",
        "else:\n",
        "  print('성과급 없음')\n",
        "\n",
        "  # 이 경우, 등급이 'A'가 아닌 사람은 모두 '성과급 없음'이 뜰 것이고, 등급이 'A'라면, 점수에 따라 성과급이 차등 지급됩니다."
      ],
      "execution_count": null,
      "outputs": []
    },
    {
      "cell_type": "markdown",
      "metadata": {
        "id": "HZXcId6jzRXE"
      },
      "source": [
        "![대체 텍스트](https://i.postimg.cc/wTJTXSnX/3.png)"
      ]
    },
    {
      "cell_type": "markdown",
      "metadata": {
        "id": "cDQtNm_cR_QG"
      },
      "source": [
        "## ⌛ QUIZ 2 ⌛\n",
        "<img src='https://i.postimg.cc/Yqys0YGs/image.png' border='0'></a>\n",
        "\n",
        "- 사내 웹페이지 로그인 기능을 만들려고 합니다.\n",
        "\n",
        " (1) ID가 '책임'이거나, ID가 '수석'이라면 '로그인 되었습니다.'라는 문구를 나타내고,\n",
        "\n",
        " (2) 이 중에서도 회원의 등급이 'PLATINUM'이면 '상위 관리자 인증'이라는 문구를 아래에 추가로 나타내고,\n",
        "\n",
        " (3) 모든 경우에 포함이 되지 않을 경우, '로그인 실패'라는 문구를 나타내려면\n",
        "\n",
        "   어떻게 해야할까요? (IF문을 사용하기)"
      ]
    },
    {
      "cell_type": "code",
      "metadata": {
        "id": "IwxZWr9iwI9O",
        "colab": {
          "base_uri": "https://localhost:8080/"
        },
        "outputId": "a09ee588-6cb4-437e-fae8-e4b048426b31"
      },
      "source": [
        "# 만약 ID가 '수석'에 GRADE가 'GOLD'인 사람이 로그인 했을 때의 결과(로그인 되었습니다.)가 아래와 같이 나온다면, 어떻게 수정해야할까요?\n",
        "\n",
        "id = '수석'\n",
        "grade = 'gold'\n",
        "\n",
        "if id =='수석' or id == '책임':\n",
        "  print('로그인되었습니다')\n",
        "  if grade == 'PLATINUM':\n",
        "   print('상위 관리자 인증')\n",
        "else :\n",
        "  print('로그인실패')\n",
        "\n",
        "# 여기에 답을 적어보세요\n",
        "???\n"
      ],
      "execution_count": null,
      "outputs": [
        {
          "output_type": "stream",
          "name": "stdout",
          "text": [
            "로그인되었습니다\n",
            "Object `?` not found.\n"
          ]
        }
      ]
    },
    {
      "cell_type": "code",
      "metadata": {
        "id": "26Wc4w7l6pzW"
      },
      "source": [
        "# 만약 ID가 '주니어'이고, GRADE가 'Platinum'인 사람이 로그인하면 어떤 문구가 나타날까요?\n",
        "???"
      ],
      "execution_count": null,
      "outputs": []
    },
    {
      "cell_type": "markdown",
      "metadata": {
        "id": "TUEs8NPQNlN-"
      },
      "source": [
        "![대체 텍스트](https://i.postimg.cc/4xRf3BLW/1-2.png)"
      ]
    },
    {
      "cell_type": "markdown",
      "metadata": {
        "id": "X8C_GYGbbLYq"
      },
      "source": [
        "# 📌 Step 6. 파이썬으로 반복 작업 자동화하기\n",
        "\n",
        "\n",
        "\n",
        "<img src = \"https://1.bp.blogspot.com/-yCFfjWNmWAo/Xs9Vvi5gI3I/AAAAAAAAAYs/3I6SGbMzbMg2zEsj5iG7ET37W1TmDXWPQCLcBGAsYHQ/s400/4425_701_0.gif\" width = \"500\">"
      ]
    },
    {
      "cell_type": "markdown",
      "metadata": {
        "id": "NHW2iCLKOF7C"
      },
      "source": [
        "![대체 텍스트](https://i.postimg.cc/wTJTXSnX/3.png)"
      ]
    },
    {
      "cell_type": "markdown",
      "metadata": {
        "id": "GyZDKWv5bHh7"
      },
      "source": [
        "## 1. 루프(Loops) 란?\n",
        "\n",
        "루프는 명령어를 반복적으로 실행시키는 경우에 사용합니다.\n",
        "\n",
        "예를 들어 \" Hello world!\" 라는 것을 100번 print할 때 print를 100번 하는 것은 비효율적입니다!\n",
        "\n",
        "그래서 이럴 경우 파이썬에서 제공하는 루프(Loop)명령문을 이용한다면 100번 작성할 필요가 없습니다.\n",
        "\n",
        "고양이  list를 print 한다고 가정해봅시다."
      ]
    },
    {
      "cell_type": "code",
      "metadata": {
        "id": "U9LWa3f7bHh8"
      },
      "source": [
        "# 고양이 종류 list를 print 할 경우\n",
        "cat_breeds = ['샴','러시안블루','먼치킨','페르시안','코리안숏헤어']\n",
        "\n",
        "print(\"고양이종류:\")\n",
        "print(cat_breeds[0])\n",
        "print(cat_breeds[1])\n",
        "print(cat_breeds[2])\n",
        "print(cat_breeds[3])\n",
        "print(cat_breeds[4])"
      ],
      "execution_count": null,
      "outputs": []
    },
    {
      "cell_type": "markdown",
      "metadata": {
        "id": "oI94fwQSbHh_"
      },
      "source": [
        "이렇게 5번 print 하는건 너무 귀찮습니다. 그래서 loop를 사용합니다."
      ]
    },
    {
      "cell_type": "markdown",
      "metadata": {
        "id": "4FplAv1aOHTA"
      },
      "source": [
        "![대체 텍스트](https://i.postimg.cc/wTJTXSnX/3.png)"
      ]
    },
    {
      "cell_type": "markdown",
      "metadata": {
        "id": "_XmONb-IFG0u"
      },
      "source": [
        "## 2. for 반복문\n",
        "\n",
        "* for 루프(for loop)\n",
        "  - for문은 각 시퀀스 값에 따라 반복하는 명령문 입니다.\n",
        "  - 반복을 얼마나 할지 정확한 횟수를 기반으로 구성됩니다."
      ]
    },
    {
      "cell_type": "markdown",
      "metadata": {
        "id": "EWWLm9UJFG0x"
      },
      "source": [
        "\n",
        "\n",
        "---\n",
        "\n",
        "\n",
        "> ## ⚡for 구문이 중요한 이유!⚡\n",
        "\n",
        "IF 조건문과 결합하여 사용한다면, 웬만한 간단한 흐름을 제어하는 프로그래밍을 할 수 있게 되는 겁니다.\n",
        "\n",
        "지금까지 배운 파이썬 데이터 자료구조와, FOR문 반복문만으로도 간단히 입출력이 가능한 프로그램을 만들 수 있습니다!\n",
        "\n",
        "\n",
        "---\n",
        "\n"
      ]
    },
    {
      "cell_type": "markdown",
      "metadata": {
        "id": "aUbqcFw-FG0x"
      },
      "source": [
        "이런 식으로 for 문을 만드는 형식은 아래와 같습니다.\n",
        "\n",
        "\n",
        "<img src='https://i.postimg.cc/7LQ3Mn4F/for.png' width='610' border='0'></a>\n"
      ]
    },
    {
      "cell_type": "code",
      "metadata": {
        "id": "eRPYj44tFG0x",
        "colab": {
          "base_uri": "https://localhost:8080/"
        },
        "outputId": "55aff549-1776-445d-e7c5-6e34e5072ab6"
      },
      "source": [
        "# 고양이 종류 list를 for문으로 print 할 경우\n",
        "cat_breeds = ['샴','러시안블루','먼치킨','페르시안','코리안숏헤어']\n",
        "\n",
        "for breed in cat_breeds:   # 임시변수를 breed 라고 지정합니다.\n",
        "  print(breed)             # 고양이 리스트를 전부 출력합니다\n",
        "\n",
        "# cat_breed라는 list 안에 있는 breed들을 불러와서 전부 출력합니다"
      ],
      "execution_count": null,
      "outputs": [
        {
          "output_type": "stream",
          "name": "stdout",
          "text": [
            "샴\n",
            "러시안블루\n",
            "먼치킨\n",
            "페르시안\n",
            "코리안숏헤어\n"
          ]
        }
      ]
    },
    {
      "cell_type": "markdown",
      "source": [
        "위 예제의 경우, 임시변수는 `breed` 이고 list 변수는 `cat_breeds` 그리고 취할 동작은 `print(breed)` 입니다.\n",
        "\n",
        "임시변수는 리스트에 있는 값을 하나씩 가져오며, 우리가 원하는 이름으로 지정하면 됩니다."
      ],
      "metadata": {
        "id": "pTBJxWyM_nvt"
      }
    },
    {
      "cell_type": "markdown",
      "metadata": {
        "id": "lMUH2ymriagP"
      },
      "source": [
        "\n",
        "---\n",
        "\n",
        "\n",
        "아래 예제처럼 임시변수를 breed대신 'i' 라고 지정해도 같은 결과가 나옵니다.\n"
      ]
    },
    {
      "cell_type": "code",
      "metadata": {
        "id": "Slja3tmhFG0x"
      },
      "source": [
        "# 고양이 종류 list를 for문으로 print 할 경우\n",
        "cat_breeds = ['샴','러시안블루','먼치킨','페르시안','코리안숏헤어']\n",
        "\n",
        "for i in cat_breeds:   # 이번에는 임시변수를 breed가 아니라 i라고 지정해봅시다.\n",
        "  print(i)             # 고양이 리스트를 전부 출력합니다"
      ],
      "execution_count": null,
      "outputs": []
    },
    {
      "cell_type": "code",
      "metadata": {
        "id": "vIl6wU2NFG0y"
      },
      "source": [
        "print(i)  # 지금 i에는 무엇이 들어있을까요?"
      ],
      "execution_count": null,
      "outputs": []
    },
    {
      "cell_type": "markdown",
      "metadata": {
        "id": "f1x0nxOcFG0y"
      },
      "source": [
        "⛔ 들여쓰기를 하지 않으면 `IndentationError`가 발생합니다!\n",
        "\n",
        "\n",
        "아래 코드를 보면 for 루프 이후에 print 앞에 한 칸씩 들여쓰기(indentation)가 되어 있는데요,\n",
        "만약 for문 작성 후 아래에 들여쓰기하지 않을 경우 indentation error가 발생하니 주의하세요."
      ]
    },
    {
      "cell_type": "code",
      "metadata": {
        "id": "arD2c4UCFG0y",
        "colab": {
          "base_uri": "https://localhost:8080/",
          "height": 137
        },
        "outputId": "77910201-2275-4a45-d8ca-c5fbdb01c365"
      },
      "source": [
        "cat_breeds = ['샴','러시안블루','먼치킨','페르시안','코리안숏헤어']\n",
        "\n",
        "for cat in cat_breeds:   # 이번에는 임시변수를 cat 라고 지정해봅시다\n",
        "print(cat)               # 고양이 리스트를 전부 출력합니다"
      ],
      "execution_count": null,
      "outputs": [
        {
          "output_type": "error",
          "ename": "IndentationError",
          "evalue": "ignored",
          "traceback": [
            "\u001b[0;36m  File \u001b[0;32m\"<ipython-input-94-0ee96850e1cd>\"\u001b[0;36m, line \u001b[0;32m4\u001b[0m\n\u001b[0;31m    print(cat)               # 고양이 리스트를 전부 출력합니다\u001b[0m\n\u001b[0m    ^\u001b[0m\n\u001b[0;31mIndentationError\u001b[0m\u001b[0;31m:\u001b[0m expected an indented block\n"
          ]
        }
      ]
    },
    {
      "cell_type": "markdown",
      "metadata": {
        "id": "rIXtvlZfOJi2"
      },
      "source": [
        "![대체 텍스트](https://i.postimg.cc/wTJTXSnX/3.png)"
      ]
    },
    {
      "cell_type": "markdown",
      "metadata": {
        "id": "1UQQQNW0bHiL"
      },
      "source": [
        "## 3. range() 함수\n",
        "\n",
        "`range()` 함수는 반복문과 연동되어 많이 사용되는 함수입니다. 위에서 살펴본 리스트 외에 다른 명령을 실행하고 싶을 때 for 반복문에서 몇 번 루프를 돌지를 표시하기 위해 range() 함수를 종종 함께 사용합니다.\n",
        "\n",
        "> 예를 들어, 아래는 Hello 문자열을 10번 (0 부터 9)까지 출력하는 예제입니다.\n"
      ]
    },
    {
      "cell_type": "code",
      "metadata": {
        "id": "Py5-edPcbHiM"
      },
      "source": [
        "for i in range(10):\n",
        "  print(\"Hello\")"
      ],
      "execution_count": null,
      "outputs": []
    },
    {
      "cell_type": "markdown",
      "metadata": {
        "id": "3d-Ty6T24hKv"
      },
      "source": [
        "**위 예제에서와 같이 `range()` 함수 괄호 안에 실행하고자 하는 명령 횟수를 적어줍니다.**\n",
        "range 함수는 숫자 n을 input으로 받아서 0부터 n-1 까지의 리스트를 반환합니다.  아래를 참고하세요.\n",
        "> - `len()` : length의 줄임말. 괄호() 안에 있는 것의 개수(리스트의 경우 원소 개수, 문자열의 경우 글자 개수)를 가져옵니다.\n"
      ]
    },
    {
      "cell_type": "code",
      "metadata": {
        "id": "x7L7rkDT5F3l",
        "colab": {
          "base_uri": "https://localhost:8080/"
        },
        "outputId": "0e034c60-2614-4275-f4f4-c8dcf792c1f0"
      },
      "source": [
        "list1 = range(5)       # 0부터 4까지 값으로 가지는 list 생성\n",
        "print(\"list1 안의 값들:\")\n",
        "print(list(list1))     # list1 리스트 출력\n",
        "print(\"list1 길이:\")\n",
        "print(len(list1))      # list1 길이 출력"
      ],
      "execution_count": null,
      "outputs": [
        {
          "output_type": "stream",
          "name": "stdout",
          "text": [
            "list1 안의 값들:\n",
            "[0, 1, 2, 3, 4]\n",
            "list1 길이:\n",
            "5\n"
          ]
        }
      ]
    },
    {
      "cell_type": "code",
      "metadata": {
        "id": "01YbhdnqEhy6",
        "colab": {
          "base_uri": "https://localhost:8080/"
        },
        "outputId": "bdb1be7a-a019-41db-d07e-e6c4aa76115d"
      },
      "source": [
        "list2 = range(7) # 0부터  6까지 list 생성\n",
        "print(\"list2 안의 값들:\")\n",
        "print(list(list2))\n",
        "print(\"list2 길이:\")\n",
        "print(len(list2))"
      ],
      "execution_count": null,
      "outputs": [
        {
          "output_type": "stream",
          "name": "stdout",
          "text": [
            "list2 안의 값들:\n",
            "[0, 1, 2, 3, 4, 5, 6]\n",
            "list2 길이:\n",
            "7\n"
          ]
        }
      ]
    },
    {
      "cell_type": "markdown",
      "metadata": {
        "id": "TqYE_0MzS9Az"
      },
      "source": [
        "🔍 **한번 해보기**\n",
        "\n",
        "*   for문을 사용하여 1부터 10까지 출력하는 코드를 작성해보세요!\n",
        "\n"
      ]
    },
    {
      "cell_type": "code",
      "metadata": {
        "id": "CO3Oi8RNS-X-",
        "colab": {
          "base_uri": "https://localhost:8080/"
        },
        "outputId": "4633ecee-5ce8-4b7a-985a-468e65235bf8"
      },
      "source": [
        "list1=range(12)\n",
        "\n",
        "for hund in list1:\n",
        "  print(hund-1)"
      ],
      "execution_count": null,
      "outputs": [
        {
          "output_type": "stream",
          "name": "stdout",
          "text": [
            "-1\n",
            "0\n",
            "1\n",
            "2\n",
            "3\n",
            "4\n",
            "5\n",
            "6\n",
            "7\n",
            "8\n",
            "9\n",
            "10\n"
          ]
        }
      ]
    },
    {
      "cell_type": "markdown",
      "metadata": {
        "id": "8ZSwxa_tS_Y0"
      },
      "source": [
        " -  for문과 +을 사용하여 1부터 100까지 더하는 코드를 작성해보세요!"
      ]
    },
    {
      "cell_type": "code",
      "source": [
        "sum=i\n",
        "\n",
        "for result in range(100)\n",
        "\n"
      ],
      "metadata": {
        "id": "ZK1ZVB75F-hi"
      },
      "execution_count": null,
      "outputs": []
    },
    {
      "cell_type": "markdown",
      "metadata": {
        "id": "MZKCrVreWSAU"
      },
      "source": [
        "\n",
        "![대체 텍스트](https://i.postimg.cc/wTJTXSnX/3.png)"
      ]
    },
    {
      "cell_type": "markdown",
      "metadata": {
        "id": "uPJB-DGpTgtG"
      },
      "source": [
        "##⌛ QUIZ 1 ⌛\n",
        "\n",
        "- 현재 품절된 상품목록은 '가방', '양말', '벨트', '셔츠' 입니다.\n",
        "\n",
        "   품절된 상품목록을 아래 그림과 같이 나타내려면 어떻게 해야 할까요?\n",
        "<img src='https://i.postimg.cc/g0pQbd6z/image.png' border='0'></a>\n",
        "\n",
        " (for문 사용하기!)"
      ]
    },
    {
      "cell_type": "code",
      "metadata": {
        "id": "fbQBbRfIGtq3"
      },
      "source": [
        "# 답을 여기에 적어볼까요?\n",
        "\n",
        "sold_out = ['가방','양말', '벨트', '셔츠]\n",
        "for i in sold_out\n",
        "            print(i)\n"
      ],
      "execution_count": null,
      "outputs": []
    },
    {
      "cell_type": "markdown",
      "metadata": {
        "id": "1hmUe6VoYuqY"
      },
      "source": [
        "## ⌛ QUIZ 2 ⌛\n",
        "\n",
        "<img src='https://i.postimg.cc/C5pmksHF/2.png' border='0'></a>\n",
        "- 대기표를 뽑은 고객들에게 자동으로 'OO번 고객님 들어오세요!'라는\n",
        "\n",
        " 멘트를 하는 자동 시스템을 만들려고 합니다. 어떻게 하면 좋을까요?\n",
        "\n",
        " (for문과 range 사용하기!)"
      ]
    },
    {
      "cell_type": "code",
      "metadata": {
        "id": "Ai8y8eRJIEyW",
        "colab": {
          "base_uri": "https://localhost:8080/"
        },
        "outputId": "c663e40b-0bd5-40ea-9c99-f7926a128172"
      },
      "source": [
        "# 현재 대기 인원은 총 10명이고, 810번~819번까지의 대기번호가 있습니다. 아래와 같은 결과가 나오도록 하려면 어떻게 해야할까요?\n",
        "\n",
        "# 810 번 고객님 들어오세요!\n",
        "# 811 번 고객님 들어오세요!\n",
        "# 812 번 고객님 들어오세요!\n",
        "# 813 번 고객님 들어오세요!\n",
        "# 814 번 고객님 들어오세요!\n",
        "# 815 번 고객님 들어오세요!\n",
        "# 816 번 고객님 들어오세요!\n",
        "# 817 번 고객님 들어오세요!\n",
        "# 818 번 고객님 들어오세요!\n",
        "# 819 번 고객님 들어오세요!\n",
        "\n",
        "\n",
        "for i in range (810, 820):\n",
        " print(i,\"번 고객님 들어오세요!\")\n"
      ],
      "execution_count": null,
      "outputs": [
        {
          "output_type": "stream",
          "name": "stdout",
          "text": [
            "810 번 고객님 들어오세요!\n",
            "811 번 고객님 들어오세요!\n",
            "812 번 고객님 들어오세요!\n",
            "813 번 고객님 들어오세요!\n",
            "814 번 고객님 들어오세요!\n",
            "815 번 고객님 들어오세요!\n",
            "816 번 고객님 들어오세요!\n",
            "817 번 고객님 들어오세요!\n",
            "818 번 고객님 들어오세요!\n",
            "819 번 고객님 들어오세요!\n"
          ]
        }
      ]
    },
    {
      "cell_type": "markdown",
      "metadata": {
        "id": "KNpAt4uOOKcX"
      },
      "source": [
        "![대체 텍스트](https://i.postimg.cc/wTJTXSnX/3.png)"
      ]
    },
    {
      "cell_type": "markdown",
      "metadata": {
        "id": "VbuuUWPLd_r4"
      },
      "source": [
        "### 4. while 반복문\n",
        "\n",
        "while 문은 while 키워드 다음의 조건이 참인 동안 계속 while 안의 블럭을 실행합니다.\n",
        "\n",
        "예를 들어, 아래 예제를 보면 while의 조건식은 i 가 10보다 작거나 같은 경우인데,\n",
        "\n",
        "i 값이 이 조건에 맞으면 계속 루프를 돌게 됩니다. 따라서 아래 예제는 1부터 10까지 값을 출력하게 됩니다."
      ]
    },
    {
      "cell_type": "code",
      "metadata": {
        "id": "nW8jwsYUd_sJ",
        "colab": {
          "base_uri": "https://localhost:8080/"
        },
        "outputId": "624bb20e-2a5c-4e25-f2e5-1a304122f1e3"
      },
      "source": [
        "i = 1\n",
        "while i <= 10:   # i가 10보다 작거나 같으면\n",
        "  print(i)       # i를 출력한다\n",
        "  i += 1         # 그리고 i는 1씩 증가함"
      ],
      "execution_count": null,
      "outputs": [
        {
          "output_type": "stream",
          "name": "stdout",
          "text": [
            "1\n",
            "2\n",
            "3\n",
            "4\n",
            "5\n",
            "6\n",
            "7\n",
            "8\n",
            "9\n",
            "10\n"
          ]
        }
      ]
    },
    {
      "cell_type": "markdown",
      "metadata": {
        "id": "1u9LWqJMd_sL"
      },
      "source": [
        "🔍 아래 코드에서 while의 조건을 **'i 가 10 보다 크거나 같다면'**으로 바꿔주세요"
      ]
    },
    {
      "cell_type": "code",
      "source": [
        "i =1\n",
        "i+=1\n",
        "print(i)"
      ],
      "metadata": {
        "colab": {
          "base_uri": "https://localhost:8080/"
        },
        "id": "gCI3vMx4atOH",
        "outputId": "5126b4c7-49bb-4c65-ecd9-81b24f1b1aca"
      },
      "execution_count": null,
      "outputs": [
        {
          "output_type": "stream",
          "name": "stdout",
          "text": [
            "2\n"
          ]
        }
      ]
    },
    {
      "cell_type": "code",
      "source": [
        "def f1(x):\n",
        "  a = 3\n",
        "  b = 5\n",
        "  y = a * x + b\n",
        "              # y 값을 반환한다\n",
        "c = f1(10)\n",
        "print(c)"
      ],
      "metadata": {
        "colab": {
          "base_uri": "https://localhost:8080/"
        },
        "id": "bad7buJEcbg4",
        "outputId": "8ee9401b-cd68-48b8-c65d-7d2f13a88807"
      },
      "execution_count": null,
      "outputs": [
        {
          "output_type": "stream",
          "name": "stdout",
          "text": [
            "None\n"
          ]
        }
      ]
    },
    {
      "cell_type": "code",
      "metadata": {
        "id": "p8AftcT5d_sM"
      },
      "source": [
        "i = 20\n",
        "while i <= 10:   # 'i 가 10 보다 크거나 같다면'으로 바꿔주세요\n",
        "  print(i)       # i를 출력한다\n",
        "  i -= 1         # 그리고 i는 1씩 감소함"
      ],
      "execution_count": null,
      "outputs": []
    },
    {
      "cell_type": "markdown",
      "metadata": {
        "id": "-m6BguQod_sM"
      },
      "source": [
        "### while 문으로 1부터 100까지 더하기"
      ]
    },
    {
      "cell_type": "code",
      "metadata": {
        "id": "sLFiVPd9d_sM"
      },
      "source": [
        "i = 1\n",
        "sum = 0          # 합은 0으로 정의\n",
        "while\n",
        "\n",
        "print(sum)"
      ],
      "execution_count": null,
      "outputs": []
    },
    {
      "cell_type": "markdown",
      "metadata": {
        "id": "72fz7ir6d_sM"
      },
      "source": [
        "**반복문 생성 시 반복하고자 하는 조건식은 항상 반복문 바디(body) 안에 있어야 합니다.**\n",
        "\n",
        "```\n",
        "while loop조건식:\n",
        "  loop body\n",
        "  실행할 동작 # 탭 한 칸이 유지되는 동안은 바디 안에 속하게 됩니다\n",
        "```\n",
        "\n"
      ]
    },
    {
      "cell_type": "markdown",
      "metadata": {
        "id": "5bQuBtw7d_sN"
      },
      "source": [
        "아래 예제를 보면 `i += 1` 이 반복문 바디 밖에 있어서 반복문이 항상 참이 됩니다.\n",
        "그래서 결국 **무한 반복 실행**을 하게 됩니다. 이 내용은 뒤에서 더 자세하게 설명하겠습니다."
      ]
    },
    {
      "cell_type": "code",
      "metadata": {
        "id": "_5UmEL8cd_sN"
      },
      "source": [
        "# 1부터 100까지 더하기 무한반복 경우\n",
        "i = 1\n",
        "sum = 0\n",
        "while i < 100:\n",
        "  sum += i\n",
        "i += 1\n",
        "print(sum)"
      ],
      "execution_count": null,
      "outputs": []
    },
    {
      "cell_type": "markdown",
      "metadata": {
        "id": "9YrH2Nx6d_sN"
      },
      "source": [
        "![대체 텍스트](https://i.postimg.cc/wTJTXSnX/3.png)"
      ]
    },
    {
      "cell_type": "markdown",
      "metadata": {
        "id": "jbYnoiDlbHiR"
      },
      "source": [
        "## 5. 무한 루프 & break\n",
        "\n",
        "if 고양이가 넘어지면 -> break!!\n",
        "\n",
        "<img src = \"http://image.gamechosun.co.kr/wlwl_upload/dataroom/common/2019/12/17/289258_1576577306.gif\" width = \"300\">\n",
        "\n",
        "만약 For문의 **조건이 항상 '참'으로 고정 되어 있으면 무한 반복에 빠지게 됩니다.**\n",
        "\n",
        "`if` 문과 함께 `break` 문을 사용하면  이러한 무한 루프를 빠져나올 수 있습니다!!\n",
        "\n",
        "```\n",
        " if <조건> :\n",
        "    <조건이 참일 경우 취할 동작>  # 자동으로 Tab이 한칸 들어가게 됩니다\n",
        "```\n",
        "\n",
        "아래 예제를 보면 1부터 10까지의 합을 구하는데,  i가 100 보다 큰 경우 while 루프를 빠져나옵니다.\n",
        "> - `break` : 반복의 기능을 수행하는 for문 또는 while문을 탈출\n",
        "\n"
      ]
    },
    {
      "cell_type": "code",
      "metadata": {
        "id": "mbToCfiUbHiS"
      },
      "source": [
        "i = 0\n",
        "sum = 0\n",
        "while True:  # while 문이 참으로 고정되어 있음\n",
        "  i += 1\n",
        "  if i > 100: # i가 100보다 큰 경우\n",
        "    break     # 루프를 빠져나옴\n",
        "  sum += i\n",
        "\n",
        "print(sum)   # 100 까지만 sum한 결과\n"
      ],
      "execution_count": null,
      "outputs": []
    },
    {
      "cell_type": "markdown",
      "metadata": {
        "id": "ecld1EajL9M8"
      },
      "source": [
        "---\n",
        "\n",
        "\n",
        "> ## ⚡ Break가 중요한 이유! ⚡\n",
        "\n",
        "예제들의 경우 변수가 몇개 되지 않지만, 실제 프로젝트를 할때는 데이터가 어마어마할 것입니다.\n",
        "\n",
        "여기서 알아야할 점은 우리가 원하는 숫자를 한번 찾고, 그 이후 뒤에까지 더 찾는건 불필요한 과정이라는 점입니다.\n",
        "\n",
        "만약 불필요한 for문이 작동을 한다면 프로그램이 느려질 수 있는 위험이 있습니다.\n",
        "\n",
        "그래서 break 문을 통해 내가 원하는 시점에 반복문을 빠져나오는 방법을 아는 것은 중요합니다!\n",
        "\n",
        "\n",
        "---\n",
        "\n"
      ]
    },
    {
      "cell_type": "markdown",
      "metadata": {
        "id": "34sIzdtALzAC"
      },
      "source": [
        "## 다른 예제를 볼까요? 아래와 같이 eng 리스트 안의 A 부터 I 까지의 알파벳 중에 F 까지만 print 할 수도 있습니다.\n",
        "\n"
      ]
    },
    {
      "cell_type": "code",
      "metadata": {
        "id": "ueU4EFC8L34Z",
        "colab": {
          "base_uri": "https://localhost:8080/"
        },
        "outputId": "4743c13b-6de2-41a9-f5dd-d3a5c0bf7be1"
      },
      "source": [
        "eng = ['A','B','C','D','E','F','G','H','I']\n",
        "\n",
        "# F 만나면\n",
        "# 그만 print 해라\n",
        "\n",
        "print(\"print end\")"
      ],
      "execution_count": null,
      "outputs": [
        {
          "output_type": "stream",
          "name": "stdout",
          "text": [
            "print end\n"
          ]
        }
      ]
    },
    {
      "cell_type": "markdown",
      "metadata": {
        "id": "rB8d9SQJZzEv"
      },
      "source": [
        "##⌛ QUIZ ⌛\n",
        "<img src='https://i.postimg.cc/MHGXshYt/image.png' border='0'></a>\n",
        "\n",
        "\n",
        "- 사원번호 '20210623'번을 찾으려고 합니다.\n",
        "\n",
        " 20210623번을 찾았다면 'FOUND : 20210623' 이라는 메세지를 보내고 찾는 것을\n",
        "\n",
        " 종료하고, 만약 찾지 못했다면, 'FAIL' 이라는 메세지를 보여주려고 합니다.\n",
        "\n",
        " 아래와 같은 결과가 나오게 하려면 어떻게 해야할까요?\n",
        "\n",
        " (break 사용하기!)"
      ]
    },
    {
      "cell_type": "code",
      "metadata": {
        "id": "N-iW4xcX95IO"
      },
      "source": [
        "num_list = [20210622,20210601,20210623,20210628]\n",
        "???"
      ],
      "execution_count": null,
      "outputs": []
    },
    {
      "cell_type": "markdown",
      "metadata": {
        "id": "JyIWPiPvfUzR"
      },
      "source": [
        "![대체 텍스트](https://i.postimg.cc/wTJTXSnX/3.png)"
      ]
    },
    {
      "cell_type": "markdown",
      "metadata": {
        "id": "Z0VXSe5EfCEM"
      },
      "source": [
        "## 6. Continue\n",
        "\n",
        "반복하며 리스트를 헤엄쳐 나갈 때, 가끔은 몇 개의 값을 스킵하고 싶을 때가 있습니다.\n",
        "\n",
        "그럴 때는  continue를 사용합니다.\n",
        "\n",
        "> 아래의 예시에서는 홀수일 때 스킵합니다."
      ]
    },
    {
      "cell_type": "code",
      "metadata": {
        "id": "e4aJLQQ_fCEN"
      },
      "source": [
        "nums = [1, 2, 3, 4, 5, 6, 7, 8, 9]\n",
        "\n",
        "for i in nums:\n",
        "  if i % 2 == 1:\n",
        "    continue\n",
        "  print(i)"
      ],
      "execution_count": null,
      "outputs": []
    },
    {
      "cell_type": "markdown",
      "metadata": {
        "id": "l5caJc1_fCEO"
      },
      "source": []
    },
    {
      "cell_type": "markdown",
      "metadata": {
        "id": "l3YuM4jTfCEO"
      },
      "source": [
        " ### 🔍 문제풀기\n",
        "\n",
        "\n",
        "> 여러분의 선술집에 손님들이 오셨습니다!\n",
        "- 나이를 물어보고, 대답하게 한 뒤\n",
        "- 20살 미만일 경우\n",
        "- \"미성년자입니다. 나가주세요!\"를 출력하세요.\n"
      ]
    },
    {
      "cell_type": "code",
      "metadata": {
        "id": "QSkJ6fo9fCEO"
      },
      "source": [
        "ages = [18, 23, 21, 17, 20, 24, 19]\n",
        "\n",
        "# 여기서 부터 반복문\n",
        "for i in ages:\n",
        "  if i < 20:\n",
        "    print(\"나가주세요\")\n",
        "  else :\n",
        "    print(\"환영합니다\")"
      ],
      "execution_count": null,
      "outputs": []
    },
    {
      "cell_type": "markdown",
      "metadata": {
        "id": "xhoalJ7HfW4P"
      },
      "source": [
        "![대체 텍스트](https://i.postimg.cc/wTJTXSnX/3.png)"
      ]
    },
    {
      "cell_type": "markdown",
      "metadata": {
        "id": "y-bxxZA4d_sO"
      },
      "source": [
        "## 7. While  로 리스트 헤엄치기~ 🏊‍♀️🏊🏊‍♂️\n",
        "\n",
        "while  문으로도 리스트를 반복하며 처리할 수 있습니다\n",
        "\n",
        "아래의 코드를 한 번 볼까요?"
      ]
    },
    {
      "cell_type": "code",
      "metadata": {
        "id": "s-Y2YjnCd_sO"
      },
      "source": [
        "dog_breeds = ['bulldog', 'dalmation', 'shihtzu', 'poodle', 'collie']\n",
        "\n",
        "index = 0\n",
        "while index < len(dog_breeds):\n",
        "  print(dog_breeds[index])\n",
        "  index += 1"
      ],
      "execution_count": null,
      "outputs": []
    },
    {
      "cell_type": "markdown",
      "metadata": {
        "id": "Y4TqHYY3d_sO"
      },
      "source": [
        "![대체 텍스트](https://i.postimg.cc/wTJTXSnX/3.png)"
      ]
    },
    {
      "cell_type": "markdown",
      "metadata": {
        "id": "cPI5xeW0d_sP"
      },
      "source": [
        "## 8. Nested Loops  중첩 루프문\n",
        "\n",
        "반복문 안에... 반복문을 또 넣을 수 있습니다. 이걸 중첩 루프문이라고 합니다.\n",
        "\n",
        "리스트 안의 리스트, 중첩 리스트를 사용할 때 매우 유용하죠!\n",
        "\n",
        "아래의 예제를 한 번 볼까요?"
      ]
    },
    {
      "cell_type": "code",
      "metadata": {
        "id": "pGsTItSAd_sP"
      },
      "source": [
        "msi_teams = [[\"Impact\", \"Xmithie\", \"Jenson\",\"Doublelift\",\"CoreJJ\"], [\"Wunder\", \"Jankos\",\"Caps\",\"Perkz\",\"Mikyx\"],\n",
        "             [\"Khan\", \"Clid\",\"Faker\",\"Teddy\",\"Mata\"]]\n",
        "\n",
        "for team in msi_teams:\n",
        "  for player in team:\n",
        "    print(player)"
      ],
      "execution_count": null,
      "outputs": []
    },
    {
      "cell_type": "markdown",
      "metadata": {
        "id": "tjEX2TKEd_sP"
      },
      "source": [
        "\n",
        "###  🔍 문제풀기\n",
        ">당신은 총 3개의 스티커 부스를 운영하고 있습니다.\n",
        "- 각 지점의 월,수,금 스티커 판매량을 `sales_data` 에 저장하였습니다.\n",
        "-이번 주 총 스티커 판매량  `stickers_sold`  를 구해보세요!\n"
      ]
    },
    {
      "cell_type": "code",
      "metadata": {
        "id": "VoPhmP0Fd_sQ"
      },
      "source": [
        "sales_data = [[231, 532, 780], [121, 316, 317], [67, 89, 523]]\n",
        "\n",
        "stickers_sold = 0\n",
        "\n",
        "# 여기에 작성\n",
        "???"
      ],
      "execution_count": null,
      "outputs": []
    },
    {
      "cell_type": "markdown",
      "metadata": {
        "id": "ll9G4OfQd_sQ"
      },
      "source": [
        "![대체 텍스트](https://i.postimg.cc/wTJTXSnX/3.png)"
      ]
    },
    {
      "cell_type": "markdown",
      "metadata": {
        "id": "qeXg987Ad_sR"
      },
      "source": [
        "## 9. 간편 반복 리스트 만들기\n",
        "\n",
        "여러 줄의 반복문을 리스트 한 줄로 해결할 수 있습니다.\n",
        "> 여러 줄의 반복문"
      ]
    },
    {
      "cell_type": "code",
      "metadata": {
        "id": "50rYPnmBd_sR"
      },
      "source": [
        "# 섭씨를 화씨로 바꾸기\n",
        "celsius = [0, 10, 15, 32, -5, 27, 3]\n",
        "\n",
        "fahrenheit = [] # 여기부터 세줄\n",
        "for c in celsius:\n",
        "  fahrenheit.append(c * 9/5 + 32)\n",
        "\n",
        "print(fahrenheit)"
      ],
      "execution_count": null,
      "outputs": []
    },
    {
      "cell_type": "markdown",
      "metadata": {
        "id": "PDFKrgafd_sR"
      },
      "source": [
        "> 리스트 한 줄로 해결하기 (**List Comprehension** 이라고 합니다)"
      ]
    },
    {
      "cell_type": "code",
      "metadata": {
        "id": "j3Euvm2yd_sR"
      },
      "source": [
        "celsius = [0, 10, 15, 32, -5, 27, 3]\n",
        "\n",
        "fahrenheit = ??? # 한 줄로 해결!\n",
        "\n",
        "print(fahrenheit)"
      ],
      "execution_count": null,
      "outputs": []
    },
    {
      "cell_type": "markdown",
      "metadata": {
        "id": "whZCvPvJNpP0"
      },
      "source": [
        "\n",
        "![대체 텍스트](https://i.postimg.cc/4xRf3BLW/1-2.png)"
      ]
    },
    {
      "cell_type": "markdown",
      "metadata": {
        "id": "J36tqRc4VoL0"
      },
      "source": [
        "# 🙋‍♀️오늘 배운 내용을 활용한 MBTI 테스트를 만들어 볼 거예요!\n",
        "\n",
        "\n",
        "\n"
      ]
    },
    {
      "cell_type": "markdown",
      "metadata": {
        "id": "035HF65p3vK_"
      },
      "source": [
        "### ▶ 아래 코딩의 '''???''' 부분에 알맞은 말을 채워보아요!"
      ]
    },
    {
      "cell_type": "markdown",
      "metadata": {
        "id": "bi6dd93E2_6F"
      },
      "source": [
        "### 😎 우리가 만들고 싶은 TEST 😎\n",
        "\n",
        "\n",
        "\n",
        "---\n",
        "\n"
      ]
    },
    {
      "cell_type": "markdown",
      "metadata": {
        "id": "3Nr4FsoPMFsl"
      },
      "source": [
        "<img src='https://i.postimg.cc/qvH4qPCY/mbti.png' width='800'  border='0'></a>"
      ]
    },
    {
      "cell_type": "markdown",
      "metadata": {
        "id": "0EcH5AnnlTu7"
      },
      "source": [
        "<img src='https://i.postimg.cc/c4w6FMRp/Kakao-Talk-20210623-201205499.png' width='460' border='0'></a>\n",
        "\n",
        "\n",
        "\n",
        "---\n",
        "\n"
      ]
    },
    {
      "cell_type": "markdown",
      "metadata": {
        "id": "WDm9ew6kllDL"
      },
      "source": [
        "<img src='https://i.postimg.cc/fTnRStGB/Kakao-Talk-20210623-201200480.png' width='460' border='0'></a>\n",
        "\n",
        "\n",
        "---\n",
        "\n"
      ]
    },
    {
      "cell_type": "code",
      "metadata": {
        "id": "ifFKW-WCX_AP"
      },
      "source": [
        "## 힌트 input 함수\n",
        "V = input()\n",
        "print(V)\n",
        "print(type(V))"
      ],
      "execution_count": null,
      "outputs": []
    },
    {
      "cell_type": "code",
      "source": [
        "#문제1\n",
        "def exam1(answer_list):\n",
        "    print(\"나 요즘 우울해서 오늘 머리잘랐어\")\n",
        "    print(\"1. 진짜? 얼마나 잘랐는데?\")     #T유형의 대답\n",
        "    print(\"2. 왜 우울해 ㅜㅜㅜㅜㅜ\")       #F유형의 대답\n",
        "    answer1 = input()\n",
        "    answer_list.append(answer1)      #answer_list 라는 \"리스트에 answer1를 추가\"해줍니다."
      ],
      "metadata": {
        "id": "DS67hk06KIy8"
      },
      "execution_count": null,
      "outputs": []
    },
    {
      "cell_type": "code",
      "source": [
        "#문제2\n",
        "def exam2(answer_list):\n",
        "    print(\"\\n남자친구가 헤어지재\")\n",
        "    print(\"1. 갑자기 왜??\")        #T유형의 대답\n",
        "    print(\"2. 헐 너 괜찮아?\")      #F유형의 대답\n",
        "    answer2 = input()\n",
        "    answer_list.append(answer2)      #answer_list 라는 \"리스트에 answer2를 추가\"해줍니다."
      ],
      "metadata": {
        "id": "bED-wIW9KIy8"
      },
      "execution_count": null,
      "outputs": []
    },
    {
      "cell_type": "code",
      "source": [
        " #문제3\n",
        " def exam3(answer_list):\n",
        "    print(\"\\n당신이 더 좋아하는 칭찬은?\")\n",
        "    print(\"1. 잘했네~ 이 부분만 약간 수정하면 더 좋겠다\")     #T유형의 대답\n",
        "    print(\"2. 열심히했네~ 고생했어\")                      #F유형의 대답\n",
        "    answer3 = input()\n",
        "    answer_list.append(answer3)      #answer_list 라는 \"리스트에 answer3를 추가\"해줍니다."
      ],
      "metadata": {
        "id": "mdQJwDs7KIy9"
      },
      "execution_count": null,
      "outputs": []
    },
    {
      "cell_type": "code",
      "source": [
        "#결과 계산하기\n",
        "def calc(answer_list):\n",
        "    total = 0.0\n",
        "    for i in answer_list :      #answer_list 안에서 \"반복문\"을 적용해주세요\n",
        "        total = total + float(i)   #i의 값을 total에 더해줍니다.\n",
        "    return total #총 계산값을 \"반환\"합니다."
      ],
      "metadata": {
        "id": "OPaRtvM1KIy9"
      },
      "execution_count": null,
      "outputs": []
    },
    {
      "cell_type": "code",
      "source": [
        "#결과 출력하기\n",
        "def result(name,total):\n",
        "    if total < 4.5 :            #\"만약\" total의 값이 4.5보다 작으면 T유형이라는 결과를 내보냅니다.\n",
        "        print(f\"{name}님은 논리적, 분석적인 T 유형입니다.\")\n",
        "    else :                        #\"그 외에는\" F유형이라는 결과를 내보냅니다.\n",
        "        print(f\"{name}님은 감정적, 공감적인 F 유형입니다. \")"
      ],
      "metadata": {
        "id": "xboAyPAsKIy9"
      },
      "execution_count": null,
      "outputs": []
    },
    {
      "cell_type": "code",
      "metadata": {
        "id": "P8ugv_O1KIy9"
      },
      "source": [
        "#최종 함수로 종합하기\n",
        "def MBTI (name) :          #특정 인물의 MBTI 성향을 알아낼 수 있는 \"함수를 정의\"해줍니다.\n",
        "    answer_list = []       #답변을 저장할 리스트를 만들어줍니다\n",
        "    print(\"다음 제시문들에 대해 자신의 답변을 골라주세요\\n\")\n",
        "\n",
        "    #문제1\n",
        "    exam1(answer_list)\n",
        "\n",
        "    #문제2\n",
        "    exam2(answer_list)\n",
        "\n",
        "    #문제3\n",
        "    exam3(answer_list)\n",
        "\n",
        "    #결과 계산하기\n",
        "    total=calc(answer_list)\n",
        "\n",
        "    print(\"\\n검사결과 :\")\n",
        "    result(name,total)\n"
      ],
      "execution_count": null,
      "outputs": []
    },
    {
      "cell_type": "markdown",
      "source": [
        "⭐ **최종 결과**"
      ],
      "metadata": {
        "id": "8Lc6W3b0K-KQ"
      }
    },
    {
      "cell_type": "code",
      "metadata": {
        "id": "myEdfyxoKIy9"
      },
      "source": [
        "MBTI('이강희')"
      ],
      "execution_count": null,
      "outputs": []
    },
    {
      "cell_type": "markdown",
      "metadata": {
        "id": "rbV7WR9klQzM"
      },
      "source": [
        "![대체 텍스트](https://i.postimg.cc/4xRf3BLW/1-2.png)"
      ]
    },
    {
      "cell_type": "markdown",
      "metadata": {
        "id": "CkBRrNyIuMVe"
      },
      "source": [
        "# 🌖 오늘 하루 고생하셨습니다!🌖\n",
        "\n",
        "파이썬과 같은 프로그래밍 언어는 절대 하루 만에 늘지 않습니다!\n",
        "\n",
        "이후 수업에서 계속해서 다루며 점점 코드 실력을 향상시켜보아요 🐣🐥🐓🦅🐉\n",
        "\n",
        "(파이썬에 대해 더 공부하고 싶은 분들은 아래 링크를 참고해주세요!!)\n",
        "\n",
        "<img src='https://i.postimg.cc/KYK65QLL/image.png' border='0'></a>\n",
        "\n",
        "1. 코드카데미(초급) : 영어에 자신이 있으시다면 추천합니다! python2는 무료이고 python3는 free trial 기간으로 학습할 수 있습니다.\n",
        "https://www.codecademy.com/learn/learn-python\n",
        "\n",
        "2. 노마드코더(중급) : 개발자들 사이에서 요즘 핫한 사이트! 파이썬으로 간단한 웹스크레퍼(크롤링)를 만듭니다. 데이터 사이언티스트에게 크롤링은 어느 정도 필요한 기술이라고 생각합니다!\n",
        "https://academy.nomadcoders.co/p/python-for-absolute-beginners\n",
        "\n",
        "3. 코딩도장(중급) : 파이썬 실전 문제들을 풀어가며 코딩 실력을 재밌게 늘려갈 수 있는 사이트입니다. Lv1 부터 시작하세요!\n",
        "http://codingdojang.com/list/1?sort=level&sort_order=fw\n",
        "\n",
        "4. 백준 알고리즘(고급) : 개발자 수준의 코딩 실력을 갖고 싶다! 하시는 분들만 추천합니다. 기초 알고리즘 문제부터 대기업 취직 시험 수준의 문제까지 있습니다. 왠만한 문제 풀이는 구글링하면 됩니다.\n",
        "https://www.acmicpc.net/step\n"
      ]
    },
    {
      "cell_type": "markdown",
      "metadata": {
        "id": "vWnnb4QcdB83"
      },
      "source": [
        "\n",
        "![대체 텍스트](https://i.postimg.cc/4xRf3BLW/1-2.png)"
      ]
    },
    {
      "cell_type": "code",
      "source": [],
      "metadata": {
        "id": "ObbdFXVd3Yk1"
      },
      "execution_count": null,
      "outputs": []
    }
  ]
}